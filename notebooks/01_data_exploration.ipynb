{
 "cells": [
  {
   "cell_type": "markdown",
   "id": "fb35a513",
   "metadata": {},
   "source": [
    "# 📊 Comment Classifier - Data Exploration & Model Training\n",
    "\n",
    "**Project**: Pattern Recognition for Text Classification  \n",
    "**Course**: DS803 - Computational Intelligence (UFPR - TADS)  \n",
    "**Objective**: Build a binary classifier for positive/negative comment sentiment analysis\n",
    "\n",
    "---\n",
    "\n",
    "## 📋 Notebook Overview\n",
    "\n",
    "This notebook covers the complete machine learning pipeline:\n",
    "\n",
    "1. **Data Loading** - Load pre-computed word embeddings and text vectors\n",
    "2. **Data Exploration** - Analyze dataset characteristics and class distribution\n",
    "3. **Model Training** - Train Logistic Regression classifier with class balancing\n",
    "4. **Model Evaluation** - Evaluate performance using accuracy, precision, recall, and F1-score\n",
    "5. **Testing** - Test the classifier with custom Portuguese comments\n",
    "\n",
    "---\n",
    "\n",
    "## 🎯 Key Features\n",
    "\n",
    "-   ✅ Uses pre-computed 100-dimensional word embeddings\n",
    "-   ✅ Handles class imbalance with balanced class weights\n",
    "-   ✅ Stratified train/validation/test split (70%/15%/15%)\n",
    "-   ✅ Rich formatted output with tables, panels, and color-coded metrics\n",
    "-   ✅ Interactive comment classification\n",
    "\n",
    "---\n",
    "\n",
    "Let's get started! 🚀\n"
   ]
  },
  {
   "cell_type": "code",
   "execution_count": 37,
   "id": "79049ca7",
   "metadata": {},
   "outputs": [],
   "source": [
    "# Standard library\n",
    "from pathlib import Path\n",
    "\n",
    "# Third-party imports\n",
    "import numpy as np\n",
    "import matplotlib.pyplot as plt\n",
    "import seaborn as sns\n",
    "from numpy.typing import NDArray\n",
    "\n",
    "# Rich imports for beautiful terminal output\n",
    "from rich.console import Console\n",
    "from rich.table import Table\n",
    "from rich.panel import Panel\n",
    "from rich.markdown import Markdown\n",
    "from rich import box\n",
    "\n",
    "# Initialize Rich console\n",
    "console = Console()\n",
    "\n",
    "# Configure matplotlib\n",
    "plt.style.use('seaborn-v0_8-darkgrid')\n",
    "sns.set_palette(\"husl\")"
   ]
  },
  {
   "cell_type": "code",
   "execution_count": 38,
   "id": "4b22a25f",
   "metadata": {},
   "outputs": [
    {
     "data": {
      "text/html": [
       "<pre style=\"white-space:pre;overflow-x:auto;line-height:normal;font-family:Menlo,'DejaVu Sans Mono',consolas,'Courier New',monospace\"><span style=\"color: #008080; text-decoration-color: #008080\">╭─────────────────────────────────────────── </span><span style=\"color: #c0c0c0; text-decoration-color: #c0c0c0; font-weight: bold\">Data Loading</span><span style=\"color: #008080; text-decoration-color: #008080\"> ────────────────────────────────────────────╮</span>\n",
       "<span style=\"color: #008080; text-decoration-color: #008080\">│</span> <span style=\"color: #008080; text-decoration-color: #008080; font-weight: bold\">📂 Loading data from:</span>                                                                               <span style=\"color: #008080; text-decoration-color: #008080\">│</span>\n",
       "<span style=\"color: #008080; text-decoration-color: #008080\">│</span> <span style=\"color: #808000; text-decoration-color: #808000\">c:\\Users\\victo\\OneDrive\\TADS\\5_Semestre\\InteligenciaArtificial\\Trabalho\\comment-classfier\\resources</span> <span style=\"color: #008080; text-decoration-color: #008080\">│</span>\n",
       "<span style=\"color: #008080; text-decoration-color: #008080\">╰─────────────────────────────────────────────────────────────────────────────────────────────────────╯</span>\n",
       "</pre>\n"
      ],
      "text/plain": [
       "\u001b[36m╭─\u001b[0m\u001b[36m──────────────────────────────────────────\u001b[0m\u001b[36m \u001b[0m\u001b[1;37mData Loading\u001b[0m\u001b[36m \u001b[0m\u001b[36m───────────────────────────────────────────\u001b[0m\u001b[36m─╮\u001b[0m\n",
       "\u001b[36m│\u001b[0m \u001b[1;36m📂 Loading data from:\u001b[0m                                                                               \u001b[36m│\u001b[0m\n",
       "\u001b[36m│\u001b[0m \u001b[33mc:\\Users\\victo\\OneDrive\\TADS\\5_Semestre\\InteligenciaArtificial\\Trabalho\\comment-classfier\\resources\u001b[0m \u001b[36m│\u001b[0m\n",
       "\u001b[36m╰─────────────────────────────────────────────────────────────────────────────────────────────────────╯\u001b[0m\n"
      ]
     },
     "metadata": {},
     "output_type": "display_data"
    },
    {
     "data": {
      "text/html": [
       "<pre style=\"white-space:pre;overflow-x:auto;line-height:normal;font-family:Menlo,'DejaVu Sans Mono',consolas,'Courier New',monospace\"><span style=\"color: #008000; text-decoration-color: #008000; font-weight: bold\">✅ All data loaded successfully!</span>\n",
       "\n",
       "</pre>\n"
      ],
      "text/plain": [
       "\u001b[1;32m✅ All data loaded successfully!\u001b[0m\n",
       "\n"
      ]
     },
     "metadata": {},
     "output_type": "display_data"
    }
   ],
   "source": [
    "def load_project_data() -> tuple[\n",
    "    list[str],                    # Vocabulary words\n",
    "    NDArray[np.float32],          # Word embeddings (9538 × 100)\n",
    "    NDArray[np.float32],          # Text vectors (10400 × 100)\n",
    "    NDArray[np.int32]             # Labels (10400,)\n",
    "]:\n",
    "    \"\"\"\n",
    "    Load all project data from the resources directory.\n",
    "\n",
    "    Returns:\n",
    "        vocabulary: List of 9,538 words\n",
    "        word_embeddings: Word vectors (9538 rows, 100 columns)\n",
    "        text_embeddings: Pre-computed text vectors (10400 rows, 100 columns)\n",
    "        labels: Binary labels (1=positive, 0=negative)\n",
    "    \"\"\"\n",
    "    # Navigate from notebooks/ to resources/\n",
    "    resources = Path.cwd().parent / \"resources\"\n",
    "\n",
    "    console.print(Panel.fit(\n",
    "        f\"[bold cyan]📂 Loading data from:[/bold cyan]\\n[yellow]{resources}[/yellow]\",\n",
    "        title=\"[bold white]Data Loading[/bold white]\",\n",
    "        border_style=\"cyan\"\n",
    "    ))\n",
    "\n",
    "    # Load vocabulary (one word per line)\n",
    "    with open(resources / \"PALAVRASpc.txt\", \"r\", encoding=\"utf-8\") as f:\n",
    "        vocabulary = [line.strip() for line in f]\n",
    "\n",
    "    # Load word embeddings (9538 × 100)\n",
    "    word_embeddings = np.loadtxt(\n",
    "        resources / \"WWRDpc.dat\",\n",
    "        dtype=np.float32\n",
    "    )\n",
    "\n",
    "    # Load pre-computed text vectors (10400 × 100)\n",
    "    text_embeddings = np.loadtxt(\n",
    "        resources / \"WTEXpc.dat\",\n",
    "        dtype=np.float32\n",
    "    )\n",
    "\n",
    "    # Load labels (10400 values: 0 or 1)\n",
    "    labels = np.loadtxt(\n",
    "        resources / \"CLtx.dat\",\n",
    "        dtype=np.float32\n",
    "    ).astype(np.int32)\n",
    "\n",
    "    console.print(\"[bold green]✅ All data loaded successfully![/bold green]\\n\")\n",
    "\n",
    "    return vocabulary, word_embeddings, text_embeddings, labels\n",
    "\n",
    "# Execute the function\n",
    "vocabulary, word_embeddings, text_embeddings, labels = load_project_data()"
   ]
  },
  {
   "cell_type": "code",
   "execution_count": 39,
   "id": "6e7ff7ae",
   "metadata": {},
   "outputs": [
    {
     "data": {
      "text/html": [
       "<pre style=\"white-space:pre;overflow-x:auto;line-height:normal;font-family:Menlo,'DejaVu Sans Mono',consolas,'Courier New',monospace\"><span style=\"font-style: italic\">                                                </span><span style=\"color: #c0c0c0; text-decoration-color: #c0c0c0; font-weight: bold; font-style: italic\">📊 Dataset Overview</span><span style=\"font-style: italic\">                                                </span>\n",
       "<span style=\"color: #000080; text-decoration-color: #000080\">╭──────────────────────┬─────────────────────────────────────────────────────────────────────────┬────────────────╮</span>\n",
       "<span style=\"color: #000080; text-decoration-color: #000080\">│</span><span style=\"color: #800080; text-decoration-color: #800080; font-weight: bold\"> Component            </span><span style=\"color: #000080; text-decoration-color: #000080\">│</span><span style=\"color: #800080; text-decoration-color: #800080; font-weight: bold\"> Details                                                                 </span><span style=\"color: #000080; text-decoration-color: #000080\">│</span><span style=\"color: #800080; text-decoration-color: #800080; font-weight: bold\">    Shape/Count </span><span style=\"color: #000080; text-decoration-color: #000080\">│</span>\n",
       "<span style=\"color: #000080; text-decoration-color: #000080\">├──────────────────────┼─────────────────────────────────────────────────────────────────────────┼────────────────┤</span>\n",
       "<span style=\"color: #000080; text-decoration-color: #000080\">│</span><span style=\"color: #008080; text-decoration-color: #008080\"> 🔤 Vocabulary        </span><span style=\"color: #000080; text-decoration-color: #000080\">│</span><span style=\"color: #808000; text-decoration-color: #808000\"> First 10 words: IMENSA, TOA, SABENDO, SABEMOS, NISTO, SABERMOS,         </span><span style=\"color: #000080; text-decoration-color: #000080\">│</span><span style=\"color: #008000; text-decoration-color: #008000\">    9,538 words </span><span style=\"color: #000080; text-decoration-color: #000080\">│</span>\n",
       "<span style=\"color: #000080; text-decoration-color: #000080\">│</span><span style=\"color: #008080; text-decoration-color: #008080\">                      </span><span style=\"color: #000080; text-decoration-color: #000080\">│</span><span style=\"color: #808000; text-decoration-color: #808000\"> SABEREMOS, SABEREM, SABERIAMOS, SABERIA...                              </span><span style=\"color: #000080; text-decoration-color: #000080\">│</span><span style=\"color: #008000; text-decoration-color: #008000\">                </span><span style=\"color: #000080; text-decoration-color: #000080\">│</span>\n",
       "<span style=\"color: #000080; text-decoration-color: #000080\">│</span><span style=\"color: #008080; text-decoration-color: #008080\"> 📐 Word Embeddings   </span><span style=\"color: #000080; text-decoration-color: #000080\">│</span><span style=\"color: #808000; text-decoration-color: #808000\"> Each word → 100 dimensions                                              </span><span style=\"color: #000080; text-decoration-color: #000080\">│</span><span style=\"color: #008000; text-decoration-color: #008000\">    9,538 × 100 </span><span style=\"color: #000080; text-decoration-color: #000080\">│</span>\n",
       "<span style=\"color: #000080; text-decoration-color: #000080\">│</span><span style=\"color: #008080; text-decoration-color: #008080\"> 📝 Text Embeddings   </span><span style=\"color: #000080; text-decoration-color: #000080\">│</span><span style=\"color: #808000; text-decoration-color: #808000\"> Pre-computed comment vectors                                            </span><span style=\"color: #000080; text-decoration-color: #000080\">│</span><span style=\"color: #008000; text-decoration-color: #008000\">   10,400 × 100 </span><span style=\"color: #000080; text-decoration-color: #000080\">│</span>\n",
       "<span style=\"color: #000080; text-decoration-color: #000080\">│</span><span style=\"color: #008080; text-decoration-color: #008080\"> 🏷️  Labels (Total)    </span><span style=\"color: #000080; text-decoration-color: #000080\">│</span><span style=\"color: #808000; text-decoration-color: #808000\"> Positive: 3,440 (33.1%) | Negative: 6,960 (66.9%)                       </span><span style=\"color: #000080; text-decoration-color: #000080\">│</span><span style=\"color: #008000; text-decoration-color: #008000\"> 10,400 samples </span><span style=\"color: #000080; text-decoration-color: #000080\">│</span>\n",
       "<span style=\"color: #000080; text-decoration-color: #000080\">╰──────────────────────┴─────────────────────────────────────────────────────────────────────────┴────────────────╯</span>\n",
       "</pre>\n"
      ],
      "text/plain": [
       "\u001b[3m                                                \u001b[0m\u001b[1;3;37m📊 Dataset Overview\u001b[0m\u001b[3m                                                \u001b[0m\n",
       "\u001b[34m╭──────────────────────┬─────────────────────────────────────────────────────────────────────────┬────────────────╮\u001b[0m\n",
       "\u001b[34m│\u001b[0m\u001b[1;35m \u001b[0m\u001b[1;35mComponent           \u001b[0m\u001b[1;35m \u001b[0m\u001b[34m│\u001b[0m\u001b[1;35m \u001b[0m\u001b[1;35mDetails                                                                \u001b[0m\u001b[1;35m \u001b[0m\u001b[34m│\u001b[0m\u001b[1;35m \u001b[0m\u001b[1;35m   Shape/Count\u001b[0m\u001b[1;35m \u001b[0m\u001b[34m│\u001b[0m\n",
       "\u001b[34m├──────────────────────┼─────────────────────────────────────────────────────────────────────────┼────────────────┤\u001b[0m\n",
       "\u001b[34m│\u001b[0m\u001b[36m \u001b[0m\u001b[36m🔤 Vocabulary       \u001b[0m\u001b[36m \u001b[0m\u001b[34m│\u001b[0m\u001b[33m \u001b[0m\u001b[33mFirst 10 words: IMENSA, TOA, SABENDO, SABEMOS, NISTO, SABERMOS,        \u001b[0m\u001b[33m \u001b[0m\u001b[34m│\u001b[0m\u001b[32m \u001b[0m\u001b[32m   9,538 words\u001b[0m\u001b[32m \u001b[0m\u001b[34m│\u001b[0m\n",
       "\u001b[34m│\u001b[0m\u001b[36m                      \u001b[0m\u001b[34m│\u001b[0m\u001b[33m \u001b[0m\u001b[33mSABEREMOS, SABEREM, SABERIAMOS, SABERIA...                             \u001b[0m\u001b[33m \u001b[0m\u001b[34m│\u001b[0m\u001b[32m                \u001b[0m\u001b[34m│\u001b[0m\n",
       "\u001b[34m│\u001b[0m\u001b[36m \u001b[0m\u001b[36m📐 Word Embeddings  \u001b[0m\u001b[36m \u001b[0m\u001b[34m│\u001b[0m\u001b[33m \u001b[0m\u001b[33mEach word → 100 dimensions                                             \u001b[0m\u001b[33m \u001b[0m\u001b[34m│\u001b[0m\u001b[32m \u001b[0m\u001b[32m   9,538 × 100\u001b[0m\u001b[32m \u001b[0m\u001b[34m│\u001b[0m\n",
       "\u001b[34m│\u001b[0m\u001b[36m \u001b[0m\u001b[36m📝 Text Embeddings  \u001b[0m\u001b[36m \u001b[0m\u001b[34m│\u001b[0m\u001b[33m \u001b[0m\u001b[33mPre-computed comment vectors                                           \u001b[0m\u001b[33m \u001b[0m\u001b[34m│\u001b[0m\u001b[32m \u001b[0m\u001b[32m  10,400 × 100\u001b[0m\u001b[32m \u001b[0m\u001b[34m│\u001b[0m\n",
       "\u001b[34m│\u001b[0m\u001b[36m \u001b[0m\u001b[36m🏷️  Labels (Total)   \u001b[0m\u001b[36m \u001b[0m\u001b[34m│\u001b[0m\u001b[33m \u001b[0m\u001b[33mPositive: 3,440 (33.1%) | Negative: 6,960 (66.9%)                      \u001b[0m\u001b[33m \u001b[0m\u001b[34m│\u001b[0m\u001b[32m \u001b[0m\u001b[32m10,400 samples\u001b[0m\u001b[32m \u001b[0m\u001b[34m│\u001b[0m\n",
       "\u001b[34m╰──────────────────────┴─────────────────────────────────────────────────────────────────────────┴────────────────╯\u001b[0m\n"
      ]
     },
     "metadata": {},
     "output_type": "display_data"
    },
    {
     "data": {
      "text/html": [
       "<pre style=\"white-space:pre;overflow-x:auto;line-height:normal;font-family:Menlo,'DejaVu Sans Mono',consolas,'Courier New',monospace\"><span style=\"color: #808000; text-decoration-color: #808000\">╔════════════════════════════════════════════════ </span><span style=\"color: #c0c0c0; text-decoration-color: #c0c0c0; font-weight: bold\">Label Analysis</span><span style=\"color: #808000; text-decoration-color: #808000\"> ═════════════════════════════════════════════════╗</span>\n",
       "<span style=\"color: #808000; text-decoration-color: #808000\">║</span> <span style=\"color: #008080; text-decoration-color: #008080; font-weight: bold\">Class Distribution:</span>                                                                                             <span style=\"color: #808000; text-decoration-color: #808000\">║</span>\n",
       "<span style=\"color: #808000; text-decoration-color: #808000\">║</span> ├─ <span style=\"color: #008000; text-decoration-color: #008000\">Positive (1):</span> 3,440 samples (33.1%)                                                                          <span style=\"color: #808000; text-decoration-color: #808000\">║</span>\n",
       "<span style=\"color: #808000; text-decoration-color: #808000\">║</span> └─ <span style=\"color: #800000; text-decoration-color: #800000\">Negative (0):</span> 6,960 samples (66.9%)                                                                          <span style=\"color: #808000; text-decoration-color: #808000\">║</span>\n",
       "<span style=\"color: #808000; text-decoration-color: #808000\">║</span>                                                                                                                 <span style=\"color: #808000; text-decoration-color: #808000\">║</span>\n",
       "<span style=\"color: #808000; text-decoration-color: #808000\">║</span> <span style=\"color: #808000; text-decoration-color: #808000; font-weight: bold\">⚠️  Note:</span> Dataset is imbalanced - more negative than positive samples!                                           <span style=\"color: #808000; text-decoration-color: #808000\">║</span>\n",
       "<span style=\"color: #808000; text-decoration-color: #808000\">╚═════════════════════════════════════════════════════════════════════════════════════════════════════════════════╝</span>\n",
       "</pre>\n"
      ],
      "text/plain": [
       "\u001b[33m╔═\u001b[0m\u001b[33m═══════════════════════════════════════════════\u001b[0m\u001b[33m \u001b[0m\u001b[1;37mLabel Analysis\u001b[0m\u001b[33m \u001b[0m\u001b[33m════════════════════════════════════════════════\u001b[0m\u001b[33m═╗\u001b[0m\n",
       "\u001b[33m║\u001b[0m \u001b[1;36mClass Distribution:\u001b[0m                                                                                             \u001b[33m║\u001b[0m\n",
       "\u001b[33m║\u001b[0m ├─ \u001b[32mPositive (1):\u001b[0m 3,440 samples (33.1%)                                                                          \u001b[33m║\u001b[0m\n",
       "\u001b[33m║\u001b[0m └─ \u001b[31mNegative (0):\u001b[0m 6,960 samples (66.9%)                                                                          \u001b[33m║\u001b[0m\n",
       "\u001b[33m║\u001b[0m                                                                                                                 \u001b[33m║\u001b[0m\n",
       "\u001b[33m║\u001b[0m \u001b[1;33m⚠️  Note:\u001b[0m Dataset is imbalanced - more negative than positive samples!                                           \u001b[33m║\u001b[0m\n",
       "\u001b[33m╚═════════════════════════════════════════════════════════════════════════════════════════════════════════════════╝\u001b[0m\n"
      ]
     },
     "metadata": {},
     "output_type": "display_data"
    }
   ],
   "source": [
    "# Create a comprehensive data overview table\n",
    "overview_table = Table(\n",
    "    title=\"[bold white]📊 Dataset Overview[/bold white]\",\n",
    "    show_header=True,\n",
    "    header_style=\"bold magenta\",\n",
    "    border_style=\"blue\",\n",
    "    box=box.ROUNDED\n",
    ")\n",
    "\n",
    "overview_table.add_column(\"Component\", style=\"cyan\", width=20)\n",
    "overview_table.add_column(\"Details\", style=\"yellow\")\n",
    "overview_table.add_column(\"Shape/Count\", justify=\"right\", style=\"green\")\n",
    "\n",
    "# Add rows with data information\n",
    "overview_table.add_row(\n",
    "    \"🔤 Vocabulary\",\n",
    "    f\"First 10 words: {', '.join(vocabulary[:10])}...\",\n",
    "    f\"{len(vocabulary):,} words\"\n",
    ")\n",
    "overview_table.add_row(\n",
    "    \"📐 Word Embeddings\",\n",
    "    f\"Each word → {word_embeddings.shape[1]} dimensions\",\n",
    "    f\"{word_embeddings.shape[0]:,} × {word_embeddings.shape[1]}\"\n",
    ")\n",
    "overview_table.add_row(\n",
    "    \"📝 Text Embeddings\",\n",
    "    \"Pre-computed comment vectors\",\n",
    "    f\"{text_embeddings.shape[0]:,} × {text_embeddings.shape[1]}\"\n",
    ")\n",
    "\n",
    "# Label distribution\n",
    "positive_count = np.sum(labels == 1)\n",
    "negative_count = np.sum(labels == 0)\n",
    "positive_pct = (positive_count / len(labels)) * 100\n",
    "negative_pct = (negative_count / len(labels)) * 100\n",
    "\n",
    "overview_table.add_row(\n",
    "    \"🏷️  Labels (Total)\",\n",
    "    f\"Positive: {positive_count:,} ({positive_pct:.1f}%) | Negative: {negative_count:,} ({negative_pct:.1f}%)\",\n",
    "    f\"{len(labels):,} samples\"\n",
    ")\n",
    "\n",
    "console.print(overview_table)\n",
    "\n",
    "# Create a separate label distribution panel\n",
    "label_info = f\"\"\"\n",
    "[bold cyan]Class Distribution:[/bold cyan]\n",
    "├─ [green]Positive (1):[/green] {positive_count:,} samples ({positive_pct:.1f}%)\n",
    "└─ [red]Negative (0):[/red] {negative_count:,} samples ({negative_pct:.1f}%)\n",
    "\n",
    "[bold yellow]⚠️  Note:[/bold yellow] Dataset is imbalanced - more negative than positive samples!\n",
    "\"\"\"\n",
    "\n",
    "console.print(Panel(\n",
    "    label_info.strip(),\n",
    "    title=\"[bold white]Label Analysis[/bold white]\",\n",
    "    border_style=\"yellow\",\n",
    "    box=box.DOUBLE\n",
    "))"
   ]
  },
  {
   "cell_type": "markdown",
   "id": "e3952bf0",
   "metadata": {},
   "source": [
    "---\n",
    "## 📊 Data Exploration\n",
    "\n",
    "Let's examine our dataset structure and class distribution:\n",
    "---\n"
   ]
  },
  {
   "cell_type": "markdown",
   "id": "390b4b5b",
   "metadata": {},
   "source": [
    "---\n",
    "\n",
    "## 🤖 Model Training: Logistic Regression\n",
    "\n",
    "**Why Logistic Regression?**\n",
    "- Simple, interpretable baseline model\n",
    "- Works well with high-dimensional data (100 features)\n",
    "- Fast training on our dataset size (7,280 training samples)\n",
    "- Supports class weight balancing for imbalanced data\n",
    "\n",
    "**Key Parameters:**\n",
    "- `class_weight='balanced'` - Automatically adjusts weights to handle class imbalance\n",
    "- `solver='lbfgs'` - Efficient optimizer for small-to-medium datasets\n",
    "- `max_iter=1000` - Sufficient iterations for convergence\n",
    "\n",
    "---\n"
   ]
  },
  {
   "cell_type": "code",
   "execution_count": 40,
   "id": "63a34156",
   "metadata": {},
   "outputs": [],
   "source": [
    "from sklearn.model_selection import train_test_split\n",
    "from sklearn.linear_model import LogisticRegression\n",
    "from sklearn.metrics import classification_report, confusion_matrix, f1_score"
   ]
  },
  {
   "cell_type": "code",
   "execution_count": 41,
   "id": "cfb01b3f",
   "metadata": {},
   "outputs": [],
   "source": [
    "# Step 1: Split into train (70%) and temp (30%)\n",
    "X_train, X_temp, y_train, y_temp = train_test_split(\n",
    "    text_embeddings,           # Your 10,400 × 100 text vectors\n",
    "    labels,                    # Your 10,400 binary labels\n",
    "    test_size=0.3,            # 30% goes to temp (will split into val + test)\n",
    "    stratify=labels,          # KEY: Maintains 67/33 ratio in all sets\n",
    "    random_state=42           # Reproducibility\n",
    ")"
   ]
  },
  {
   "cell_type": "markdown",
   "id": "a636246b",
   "metadata": {},
   "source": [
    "---\n",
    "\n",
    "## 🔀 Dataset Splitting\n",
    "\n",
    "We'll split the data into three sets:\n",
    "- **Training Set (70%)**: Used to train the model\n",
    "- **Validation Set (15%)**: Used to tune hyperparameters and monitor training\n",
    "- **Test Set (15%)**: Final evaluation to report in `trabalho.md`\n",
    "\n",
    "**Important**: We use **stratified splitting** to maintain the 67:33 class ratio across all sets.\n",
    "\n",
    "---\n"
   ]
  },
  {
   "cell_type": "code",
   "execution_count": 42,
   "id": "359075a2",
   "metadata": {},
   "outputs": [],
   "source": [
    "# Step 2: Split temp into validation (15%) and test (15%)\n",
    "X_val, X_test, y_val, y_test = train_test_split(\n",
    "    X_temp, \n",
    "    y_temp,\n",
    "    test_size=0.5,            # Split the 30% into two equal parts\n",
    "    stratify=y_temp,\n",
    "    random_state=42\n",
    ")"
   ]
  },
  {
   "cell_type": "code",
   "execution_count": 43,
   "id": "64e8b6ec",
   "metadata": {},
   "outputs": [
    {
     "data": {
      "text/html": [
       "<pre style=\"white-space:pre;overflow-x:auto;line-height:normal;font-family:Menlo,'DejaVu Sans Mono',consolas,'Courier New',monospace\"><span style=\"font-style: italic\">                          </span><span style=\"color: #c0c0c0; text-decoration-color: #c0c0c0; font-weight: bold; font-style: italic\">📊 Dataset Split Overview</span><span style=\"font-style: italic\">                          </span>\n",
       "<span style=\"color: #008080; text-decoration-color: #008080\">╭─────────────────┬───────────────┬───────────────┬───────────────┬─────────╮</span>\n",
       "<span style=\"color: #008080; text-decoration-color: #008080\">│</span><span style=\"color: #800080; text-decoration-color: #800080; font-weight: bold\"> Split           </span><span style=\"color: #008080; text-decoration-color: #008080\">│</span><span style=\"color: #800080; text-decoration-color: #800080; font-weight: bold\"> Total Samples </span><span style=\"color: #008080; text-decoration-color: #008080\">│</span><span style=\"color: #800080; text-decoration-color: #800080; font-weight: bold\">      Positive </span><span style=\"color: #008080; text-decoration-color: #008080\">│</span><span style=\"color: #800080; text-decoration-color: #800080; font-weight: bold\">      Negative </span><span style=\"color: #008080; text-decoration-color: #008080\">│</span><span style=\"color: #800080; text-decoration-color: #800080; font-weight: bold\"> Balance </span><span style=\"color: #008080; text-decoration-color: #008080\">│</span>\n",
       "<span style=\"color: #008080; text-decoration-color: #008080\">├─────────────────┼───────────────┼───────────────┼───────────────┼─────────┤</span>\n",
       "<span style=\"color: #008080; text-decoration-color: #008080\">│</span><span style=\"color: #008080; text-decoration-color: #008080; font-weight: bold\"> 🔹 Training     </span><span style=\"color: #008080; text-decoration-color: #008080\">│</span><span style=\"color: #808000; text-decoration-color: #808000\">         7,280 </span><span style=\"color: #008080; text-decoration-color: #008080\">│</span><span style=\"color: #008000; text-decoration-color: #008000\"> 2,408 (33.1%) </span><span style=\"color: #008080; text-decoration-color: #008080\">│</span><span style=\"color: #800000; text-decoration-color: #800000\"> 4,872 (66.9%) </span><span style=\"color: #008080; text-decoration-color: #008080\">│</span><span style=\"color: #c0c0c0; text-decoration-color: #c0c0c0\">   ✅    </span><span style=\"color: #008080; text-decoration-color: #008080\">│</span>\n",
       "<span style=\"color: #008080; text-decoration-color: #008080\">│</span><span style=\"color: #008080; text-decoration-color: #008080; font-weight: bold\"> 🔸 Validation   </span><span style=\"color: #008080; text-decoration-color: #008080\">│</span><span style=\"color: #808000; text-decoration-color: #808000\">         1,560 </span><span style=\"color: #008080; text-decoration-color: #008080\">│</span><span style=\"color: #008000; text-decoration-color: #008000\">   516 (33.1%) </span><span style=\"color: #008080; text-decoration-color: #008080\">│</span><span style=\"color: #800000; text-decoration-color: #800000\"> 1,044 (66.9%) </span><span style=\"color: #008080; text-decoration-color: #008080\">│</span><span style=\"color: #c0c0c0; text-decoration-color: #c0c0c0\">   ✅    </span><span style=\"color: #008080; text-decoration-color: #008080\">│</span>\n",
       "<span style=\"color: #008080; text-decoration-color: #008080\">│</span><span style=\"color: #008080; text-decoration-color: #008080; font-weight: bold\"> 🔺 Test         </span><span style=\"color: #008080; text-decoration-color: #008080\">│</span><span style=\"color: #808000; text-decoration-color: #808000\">         1,560 </span><span style=\"color: #008080; text-decoration-color: #008080\">│</span><span style=\"color: #008000; text-decoration-color: #008000\">   516 (33.1%) </span><span style=\"color: #008080; text-decoration-color: #008080\">│</span><span style=\"color: #800000; text-decoration-color: #800000\"> 1,044 (66.9%) </span><span style=\"color: #008080; text-decoration-color: #008080\">│</span><span style=\"color: #c0c0c0; text-decoration-color: #c0c0c0\">   ✅    </span><span style=\"color: #008080; text-decoration-color: #008080\">│</span>\n",
       "<span style=\"color: #008080; text-decoration-color: #008080\">╰─────────────────┴───────────────┴───────────────┴───────────────┴─────────╯</span>\n",
       "</pre>\n"
      ],
      "text/plain": [
       "\u001b[3m                          \u001b[0m\u001b[1;3;37m📊 Dataset Split Overview\u001b[0m\u001b[3m                          \u001b[0m\n",
       "\u001b[36m╭─────────────────┬───────────────┬───────────────┬───────────────┬─────────╮\u001b[0m\n",
       "\u001b[36m│\u001b[0m\u001b[1;35m \u001b[0m\u001b[1;35mSplit          \u001b[0m\u001b[1;35m \u001b[0m\u001b[36m│\u001b[0m\u001b[1;35m \u001b[0m\u001b[1;35mTotal Samples\u001b[0m\u001b[1;35m \u001b[0m\u001b[36m│\u001b[0m\u001b[1;35m \u001b[0m\u001b[1;35m     Positive\u001b[0m\u001b[1;35m \u001b[0m\u001b[36m│\u001b[0m\u001b[1;35m \u001b[0m\u001b[1;35m     Negative\u001b[0m\u001b[1;35m \u001b[0m\u001b[36m│\u001b[0m\u001b[1;35m \u001b[0m\u001b[1;35mBalance\u001b[0m\u001b[1;35m \u001b[0m\u001b[36m│\u001b[0m\n",
       "\u001b[36m├─────────────────┼───────────────┼───────────────┼───────────────┼─────────┤\u001b[0m\n",
       "\u001b[36m│\u001b[0m\u001b[1;36m \u001b[0m\u001b[1;36m🔹 Training    \u001b[0m\u001b[1;36m \u001b[0m\u001b[36m│\u001b[0m\u001b[33m \u001b[0m\u001b[33m        7,280\u001b[0m\u001b[33m \u001b[0m\u001b[36m│\u001b[0m\u001b[32m \u001b[0m\u001b[32m2,408 (33.1%)\u001b[0m\u001b[32m \u001b[0m\u001b[36m│\u001b[0m\u001b[31m \u001b[0m\u001b[31m4,872 (66.9%)\u001b[0m\u001b[31m \u001b[0m\u001b[36m│\u001b[0m\u001b[37m \u001b[0m\u001b[37m  ✅   \u001b[0m\u001b[37m \u001b[0m\u001b[36m│\u001b[0m\n",
       "\u001b[36m│\u001b[0m\u001b[1;36m \u001b[0m\u001b[1;36m🔸 Validation  \u001b[0m\u001b[1;36m \u001b[0m\u001b[36m│\u001b[0m\u001b[33m \u001b[0m\u001b[33m        1,560\u001b[0m\u001b[33m \u001b[0m\u001b[36m│\u001b[0m\u001b[32m \u001b[0m\u001b[32m  516 (33.1%)\u001b[0m\u001b[32m \u001b[0m\u001b[36m│\u001b[0m\u001b[31m \u001b[0m\u001b[31m1,044 (66.9%)\u001b[0m\u001b[31m \u001b[0m\u001b[36m│\u001b[0m\u001b[37m \u001b[0m\u001b[37m  ✅   \u001b[0m\u001b[37m \u001b[0m\u001b[36m│\u001b[0m\n",
       "\u001b[36m│\u001b[0m\u001b[1;36m \u001b[0m\u001b[1;36m🔺 Test        \u001b[0m\u001b[1;36m \u001b[0m\u001b[36m│\u001b[0m\u001b[33m \u001b[0m\u001b[33m        1,560\u001b[0m\u001b[33m \u001b[0m\u001b[36m│\u001b[0m\u001b[32m \u001b[0m\u001b[32m  516 (33.1%)\u001b[0m\u001b[32m \u001b[0m\u001b[36m│\u001b[0m\u001b[31m \u001b[0m\u001b[31m1,044 (66.9%)\u001b[0m\u001b[31m \u001b[0m\u001b[36m│\u001b[0m\u001b[37m \u001b[0m\u001b[37m  ✅   \u001b[0m\u001b[37m \u001b[0m\u001b[36m│\u001b[0m\n",
       "\u001b[36m╰─────────────────┴───────────────┴───────────────┴───────────────┴─────────╯\u001b[0m\n"
      ]
     },
     "metadata": {},
     "output_type": "display_data"
    },
    {
     "data": {
      "text/html": [
       "<pre style=\"white-space:pre;overflow-x:auto;line-height:normal;font-family:Menlo,'DejaVu Sans Mono',consolas,'Courier New',monospace\"><span style=\"color: #008000; text-decoration-color: #008000\">╔═════════════════════════════════════════════════ </span><span style=\"color: #c0c0c0; text-decoration-color: #c0c0c0; font-weight: bold\">Split Summary</span><span style=\"color: #008000; text-decoration-color: #008000\"> ═════════════════════════════════════════════════╗</span>\n",
       "<span style=\"color: #008000; text-decoration-color: #008000\">║</span> <span style=\"color: #008000; text-decoration-color: #008000; font-weight: bold\">✅ Data split completed successfully!</span>                                                                           <span style=\"color: #008000; text-decoration-color: #008000\">║</span>\n",
       "<span style=\"color: #008000; text-decoration-color: #008000\">║</span>                                                                                                                 <span style=\"color: #008000; text-decoration-color: #008000\">║</span>\n",
       "<span style=\"color: #008000; text-decoration-color: #008000\">║</span> <span style=\"color: #008080; text-decoration-color: #008080; font-weight: bold\">Split Strategy:</span>                                                                                                 <span style=\"color: #008000; text-decoration-color: #008000\">║</span>\n",
       "<span style=\"color: #008000; text-decoration-color: #008000\">║</span> ├─ Training:   70% of total data (7,280 samples)                                                                <span style=\"color: #008000; text-decoration-color: #008000\">║</span>\n",
       "<span style=\"color: #008000; text-decoration-color: #008000\">║</span> ├─ Validation: 15% of total data (1,560 samples)                                                                <span style=\"color: #008000; text-decoration-color: #008000\">║</span>\n",
       "<span style=\"color: #008000; text-decoration-color: #008000\">║</span> └─ Test:       15% of total data (1,560 samples)                                                                <span style=\"color: #008000; text-decoration-color: #008000\">║</span>\n",
       "<span style=\"color: #008000; text-decoration-color: #008000\">║</span>                                                                                                                 <span style=\"color: #008000; text-decoration-color: #008000\">║</span>\n",
       "<span style=\"color: #008000; text-decoration-color: #008000\">║</span> <span style=\"color: #808000; text-decoration-color: #808000; font-weight: bold\">Key Points:</span>                                                                                                     <span style=\"color: #008000; text-decoration-color: #008000\">║</span>\n",
       "<span style=\"color: #008000; text-decoration-color: #008000\">║</span> • <span style=\"color: #c0c0c0; text-decoration-color: #c0c0c0\">Stratified split</span> maintains class distribution across all sets                                                 <span style=\"color: #008000; text-decoration-color: #008000\">║</span>\n",
       "<span style=\"color: #008000; text-decoration-color: #008000\">║</span> • Class imbalance preserved: ~67% negative, ~33% positive                                                       <span style=\"color: #008000; text-decoration-color: #008000\">║</span>\n",
       "<span style=\"color: #008000; text-decoration-color: #008000\">║</span> • Random state fixed (42) for reproducibility                                                                   <span style=\"color: #008000; text-decoration-color: #008000\">║</span>\n",
       "<span style=\"color: #008000; text-decoration-color: #008000\">╚═════════════════════════════════════════════════════════════════════════════════════════════════════════════════╝</span>\n",
       "</pre>\n"
      ],
      "text/plain": [
       "\u001b[32m╔═\u001b[0m\u001b[32m════════════════════════════════════════════════\u001b[0m\u001b[32m \u001b[0m\u001b[1;37mSplit Summary\u001b[0m\u001b[32m \u001b[0m\u001b[32m════════════════════════════════════════════════\u001b[0m\u001b[32m═╗\u001b[0m\n",
       "\u001b[32m║\u001b[0m \u001b[1;32m✅ Data split completed successfully!\u001b[0m                                                                           \u001b[32m║\u001b[0m\n",
       "\u001b[32m║\u001b[0m                                                                                                                 \u001b[32m║\u001b[0m\n",
       "\u001b[32m║\u001b[0m \u001b[1;36mSplit Strategy:\u001b[0m                                                                                                 \u001b[32m║\u001b[0m\n",
       "\u001b[32m║\u001b[0m ├─ Training:   70% of total data (7,280 samples)                                                                \u001b[32m║\u001b[0m\n",
       "\u001b[32m║\u001b[0m ├─ Validation: 15% of total data (1,560 samples)                                                                \u001b[32m║\u001b[0m\n",
       "\u001b[32m║\u001b[0m └─ Test:       15% of total data (1,560 samples)                                                                \u001b[32m║\u001b[0m\n",
       "\u001b[32m║\u001b[0m                                                                                                                 \u001b[32m║\u001b[0m\n",
       "\u001b[32m║\u001b[0m \u001b[1;33mKey Points:\u001b[0m                                                                                                     \u001b[32m║\u001b[0m\n",
       "\u001b[32m║\u001b[0m • \u001b[37mStratified split\u001b[0m maintains class distribution across all sets                                                 \u001b[32m║\u001b[0m\n",
       "\u001b[32m║\u001b[0m • Class imbalance preserved: ~67% negative, ~33% positive                                                       \u001b[32m║\u001b[0m\n",
       "\u001b[32m║\u001b[0m • Random state fixed (42) for reproducibility                                                                   \u001b[32m║\u001b[0m\n",
       "\u001b[32m╚═════════════════════════════════════════════════════════════════════════════════════════════════════════════════╝\u001b[0m\n"
      ]
     },
     "metadata": {},
     "output_type": "display_data"
    }
   ],
   "source": [
    "# Create a beautiful table for dataset splits\n",
    "splits_table = Table(\n",
    "    title=\"[bold white]📊 Dataset Split Overview[/bold white]\",\n",
    "    show_header=True,\n",
    "    header_style=\"bold magenta\",\n",
    "    border_style=\"cyan\",\n",
    "    box=box.ROUNDED\n",
    ")\n",
    "\n",
    "splits_table.add_column(\"Split\", style=\"bold cyan\", width=15)\n",
    "splits_table.add_column(\"Total Samples\", justify=\"right\", style=\"yellow\")\n",
    "splits_table.add_column(\"Positive\", justify=\"right\", style=\"green\")\n",
    "splits_table.add_column(\"Negative\", justify=\"right\", style=\"red\")\n",
    "splits_table.add_column(\"Balance\", justify=\"center\", style=\"white\")\n",
    "\n",
    "# Helper function to add split info\n",
    "def add_split_row(name: str, y_data: NDArray, emoji: str):\n",
    "    total = len(y_data)\n",
    "    pos = np.sum(y_data == 1)\n",
    "    neg = np.sum(y_data == 0)\n",
    "    pos_pct = (pos / total) * 100\n",
    "    neg_pct = (neg / total) * 100\n",
    "    \n",
    "    splits_table.add_row(\n",
    "        f\"{emoji} {name}\",\n",
    "        f\"{total:,}\",\n",
    "        f\"{pos:,} ({pos_pct:.1f}%)\",\n",
    "        f\"{neg:,} ({neg_pct:.1f}%)\",\n",
    "        \"✅\" if 30 <= pos_pct <= 70 else \"⚠️\"\n",
    "    )\n",
    "\n",
    "# Add rows for each split\n",
    "add_split_row(\"Training\", y_train, \"🔹\")\n",
    "add_split_row(\"Validation\", y_val, \"🔸\")\n",
    "add_split_row(\"Test\", y_test, \"🔺\")\n",
    "\n",
    "console.print(splits_table)\n",
    "\n",
    "# Add a summary panel\n",
    "summary = f\"\"\"\n",
    "[bold green]✅ Data split completed successfully![/bold green]\n",
    "\n",
    "[bold cyan]Split Strategy:[/bold cyan]\n",
    "├─ Training:   70% of total data ({len(y_train):,} samples)\n",
    "├─ Validation: 15% of total data ({len(y_val):,} samples)\n",
    "└─ Test:       15% of total data ({len(y_test):,} samples)\n",
    "\n",
    "[bold yellow]Key Points:[/bold yellow]\n",
    "• [white]Stratified split[/white] maintains class distribution across all sets\n",
    "• Class imbalance preserved: ~67% negative, ~33% positive\n",
    "• Random state fixed (42) for reproducibility\n",
    "\"\"\"\n",
    "\n",
    "console.print(Panel(\n",
    "    summary.strip(),\n",
    "    title=\"[bold white]Split Summary[/bold white]\",\n",
    "    border_style=\"green\",\n",
    "    box=box.DOUBLE\n",
    "))"
   ]
  },
  {
   "cell_type": "code",
   "execution_count": 44,
   "id": "bf0124bf",
   "metadata": {},
   "outputs": [
    {
     "data": {
      "text/html": [
       "<pre style=\"white-space:pre;overflow-x:auto;line-height:normal;font-family:Menlo,'DejaVu Sans Mono',consolas,'Courier New',monospace\"><span style=\"color: #00ff00; text-decoration-color: #00ff00\">───────────────────────────────────────── </span><span style=\"color: #000080; text-decoration-color: #000080; font-weight: bold\">🤖 Training Logistic Regression</span><span style=\"color: #00ff00; text-decoration-color: #00ff00\"> ─────────────────────────────────────────</span>\n",
       "</pre>\n"
      ],
      "text/plain": [
       "\u001b[92m───────────────────────────────────────── \u001b[0m\u001b[1;34m🤖 Training Logistic Regression\u001b[0m\u001b[92m ─────────────────────────────────────────\u001b[0m\n"
      ]
     },
     "metadata": {},
     "output_type": "display_data"
    },
    {
     "data": {
      "text/html": [
       "<pre style=\"white-space:pre;overflow-x:auto;line-height:normal;font-family:Menlo,'DejaVu Sans Mono',consolas,'Courier New',monospace\"><span style=\"color: #000080; text-decoration-color: #000080\">╭────────────────────────────────────────────────── </span><span style=\"color: #c0c0c0; text-decoration-color: #c0c0c0; font-weight: bold\">Model Setup</span><span style=\"color: #000080; text-decoration-color: #000080\"> ──────────────────────────────────────────────────╮</span>\n",
       "<span style=\"color: #000080; text-decoration-color: #000080\">│</span> <span style=\"color: #008080; text-decoration-color: #008080; font-weight: bold\">Model Configuration:</span>                                                                                            <span style=\"color: #000080; text-decoration-color: #000080\">│</span>\n",
       "<span style=\"color: #000080; text-decoration-color: #000080\">│</span> ├─ Algorithm: Logistic Regression                                                                               <span style=\"color: #000080; text-decoration-color: #000080\">│</span>\n",
       "<span style=\"color: #000080; text-decoration-color: #000080\">│</span> ├─ Solver: LBFGS (L-BFGS-B algorithm)                                                                           <span style=\"color: #000080; text-decoration-color: #000080\">│</span>\n",
       "<span style=\"color: #000080; text-decoration-color: #000080\">│</span> ├─ Max Iterations: 1,000                                                                                        <span style=\"color: #000080; text-decoration-color: #000080\">│</span>\n",
       "<span style=\"color: #000080; text-decoration-color: #000080\">│</span> ├─ Class Weights: Balanced (auto-adjusted)                                                                      <span style=\"color: #000080; text-decoration-color: #000080\">│</span>\n",
       "<span style=\"color: #000080; text-decoration-color: #000080\">│</span> └─ Random State: 42                                                                                             <span style=\"color: #000080; text-decoration-color: #000080\">│</span>\n",
       "<span style=\"color: #000080; text-decoration-color: #000080\">│</span>                                                                                                                 <span style=\"color: #000080; text-decoration-color: #000080\">│</span>\n",
       "<span style=\"color: #000080; text-decoration-color: #000080\">│</span> <span style=\"color: #808000; text-decoration-color: #808000; font-weight: bold\">⏳ Training in progress...</span>                                                                                      <span style=\"color: #000080; text-decoration-color: #000080\">│</span>\n",
       "<span style=\"color: #000080; text-decoration-color: #000080\">╰─────────────────────────────────────────────────────────────────────────────────────────────────────────────────╯</span>\n",
       "</pre>\n"
      ],
      "text/plain": [
       "\u001b[34m╭─\u001b[0m\u001b[34m─────────────────────────────────────────────────\u001b[0m\u001b[34m \u001b[0m\u001b[1;37mModel Setup\u001b[0m\u001b[34m \u001b[0m\u001b[34m─────────────────────────────────────────────────\u001b[0m\u001b[34m─╮\u001b[0m\n",
       "\u001b[34m│\u001b[0m \u001b[1;36mModel Configuration:\u001b[0m                                                                                            \u001b[34m│\u001b[0m\n",
       "\u001b[34m│\u001b[0m ├─ Algorithm: Logistic Regression                                                                               \u001b[34m│\u001b[0m\n",
       "\u001b[34m│\u001b[0m ├─ Solver: LBFGS (L-BFGS-B algorithm)                                                                           \u001b[34m│\u001b[0m\n",
       "\u001b[34m│\u001b[0m ├─ Max Iterations: 1,000                                                                                        \u001b[34m│\u001b[0m\n",
       "\u001b[34m│\u001b[0m ├─ Class Weights: Balanced (auto-adjusted)                                                                      \u001b[34m│\u001b[0m\n",
       "\u001b[34m│\u001b[0m └─ Random State: 42                                                                                             \u001b[34m│\u001b[0m\n",
       "\u001b[34m│\u001b[0m                                                                                                                 \u001b[34m│\u001b[0m\n",
       "\u001b[34m│\u001b[0m \u001b[1;33m⏳ Training in progress...\u001b[0m                                                                                      \u001b[34m│\u001b[0m\n",
       "\u001b[34m╰─────────────────────────────────────────────────────────────────────────────────────────────────────────────────╯\u001b[0m\n"
      ]
     },
     "metadata": {},
     "output_type": "display_data"
    },
    {
     "name": "stderr",
     "output_type": "stream",
     "text": [
      "[Parallel(n_jobs=1)]: Done   1 out of   1 | elapsed:    0.0s finished\n"
     ]
    },
    {
     "data": {
      "text/html": [
       "<pre style=\"white-space:pre;overflow-x:auto;line-height:normal;font-family:Menlo,'DejaVu Sans Mono',consolas,'Courier New',monospace\"><span style=\"font-style: italic\">              </span><span style=\"color: #c0c0c0; text-decoration-color: #c0c0c0; font-weight: bold; font-style: italic\">Computed Class Weights</span><span style=\"font-style: italic\">              </span>\n",
       "<span style=\"color: #008000; text-decoration-color: #008000\">                                                  </span>\n",
       "<span style=\"color: #008000; text-decoration-color: #008000\"> </span><span style=\"color: #800080; text-decoration-color: #800080; font-weight: bold\">  Class   </span><span style=\"color: #008000; text-decoration-color: #008000\"> </span><span style=\"color: #800080; text-decoration-color: #800080; font-weight: bold\"> Label </span><span style=\"color: #008000; text-decoration-color: #008000\"> </span><span style=\"color: #800080; text-decoration-color: #800080; font-weight: bold\"> Weight </span><span style=\"color: #008000; text-decoration-color: #008000\"> </span><span style=\"color: #800080; text-decoration-color: #800080; font-weight: bold\"> Impact             </span><span style=\"color: #008000; text-decoration-color: #008000\"> </span>\n",
       "<span style=\"color: #008000; text-decoration-color: #008000\"> ──────────────────────────────────────────────── </span>\n",
       "<span style=\"color: #008000; text-decoration-color: #008000\"> </span><span style=\"color: #008080; text-decoration-color: #008080\"> Negative </span><span style=\"color: #008000; text-decoration-color: #008000\"> </span><span style=\"color: #808000; text-decoration-color: #808000\">   0   </span><span style=\"color: #008000; text-decoration-color: #008000\">   0.747  </span><span style=\"color: #c0c0c0; text-decoration-color: #c0c0c0\"> Baseline           </span><span style=\"color: #008000; text-decoration-color: #008000\"> </span>\n",
       "<span style=\"color: #008000; text-decoration-color: #008000\"> </span><span style=\"color: #008080; text-decoration-color: #008080\"> Positive </span><span style=\"color: #008000; text-decoration-color: #008000\"> </span><span style=\"color: #808000; text-decoration-color: #808000\">   1   </span><span style=\"color: #008000; text-decoration-color: #008000\">   1.512  </span><span style=\"color: #c0c0c0; text-decoration-color: #c0c0c0\"> </span><span style=\"color: #c0c0c0; text-decoration-color: #c0c0c0; font-weight: bold\">2.02× more penalty</span><span style=\"color: #c0c0c0; text-decoration-color: #c0c0c0\"> </span><span style=\"color: #008000; text-decoration-color: #008000\"> </span>\n",
       "<span style=\"color: #008000; text-decoration-color: #008000\">                                                  </span>\n",
       "</pre>\n"
      ],
      "text/plain": [
       "\u001b[3m              \u001b[0m\u001b[1;3;37mComputed Class Weights\u001b[0m\u001b[3m              \u001b[0m\n",
       "\u001b[32m                                                  \u001b[0m\n",
       "\u001b[32m \u001b[0m\u001b[1;35m \u001b[0m\u001b[1;35m Class  \u001b[0m\u001b[1;35m \u001b[0m\u001b[32m \u001b[0m\u001b[1;35m \u001b[0m\u001b[1;35mLabel\u001b[0m\u001b[1;35m \u001b[0m\u001b[32m \u001b[0m\u001b[1;35m \u001b[0m\u001b[1;35mWeight\u001b[0m\u001b[1;35m \u001b[0m\u001b[32m \u001b[0m\u001b[1;35m \u001b[0m\u001b[1;35mImpact            \u001b[0m\u001b[1;35m \u001b[0m\u001b[32m \u001b[0m\n",
       "\u001b[32m ──────────────────────────────────────────────── \u001b[0m\n",
       "\u001b[32m \u001b[0m\u001b[36m \u001b[0m\u001b[36mNegative\u001b[0m\u001b[36m \u001b[0m\u001b[32m \u001b[0m\u001b[33m \u001b[0m\u001b[33m  0  \u001b[0m\u001b[33m \u001b[0m\u001b[32m \u001b[0m\u001b[32m \u001b[0m\u001b[32m 0.747\u001b[0m\u001b[32m \u001b[0m\u001b[32m \u001b[0m\u001b[37m \u001b[0m\u001b[37mBaseline          \u001b[0m\u001b[37m \u001b[0m\u001b[32m \u001b[0m\n",
       "\u001b[32m \u001b[0m\u001b[36m \u001b[0m\u001b[36mPositive\u001b[0m\u001b[36m \u001b[0m\u001b[32m \u001b[0m\u001b[33m \u001b[0m\u001b[33m  1  \u001b[0m\u001b[33m \u001b[0m\u001b[32m \u001b[0m\u001b[32m \u001b[0m\u001b[32m 1.512\u001b[0m\u001b[32m \u001b[0m\u001b[32m \u001b[0m\u001b[37m \u001b[0m\u001b[1;37m2.02× more penalty\u001b[0m\u001b[37m \u001b[0m\u001b[32m \u001b[0m\n",
       "\u001b[32m                                                  \u001b[0m\n"
      ]
     },
     "metadata": {},
     "output_type": "display_data"
    },
    {
     "data": {
      "text/html": [
       "<pre style=\"white-space:pre;overflow-x:auto;line-height:normal;font-family:Menlo,'DejaVu Sans Mono',consolas,'Courier New',monospace\"><span style=\"color: #008000; text-decoration-color: #008000\">╔════════════════════════════════════════════════ </span><span style=\"color: #c0c0c0; text-decoration-color: #c0c0c0; font-weight: bold\">Training Result</span><span style=\"color: #008000; text-decoration-color: #008000\"> ════════════════════════════════════════════════╗</span>\n",
       "<span style=\"color: #008000; text-decoration-color: #008000\">║</span> <span style=\"color: #008000; text-decoration-color: #008000; font-weight: bold\">✅ Training complete!</span>                                                                                           <span style=\"color: #008000; text-decoration-color: #008000\">║</span>\n",
       "<span style=\"color: #008000; text-decoration-color: #008000\">║</span>                                                                                                                 <span style=\"color: #008000; text-decoration-color: #008000\">║</span>\n",
       "<span style=\"color: #008000; text-decoration-color: #008000\">║</span> Positive class errors are penalized <span style=\"color: #008080; text-decoration-color: #008080; font-weight: bold\">2.02×</span> more than negative class errors.                                      <span style=\"color: #008000; text-decoration-color: #008000\">║</span>\n",
       "<span style=\"color: #008000; text-decoration-color: #008000\">║</span> This helps the model pay more attention to the minority class (positive comments).                              <span style=\"color: #008000; text-decoration-color: #008000\">║</span>\n",
       "<span style=\"color: #008000; text-decoration-color: #008000\">╚═════════════════════════════════════════════════════════════════════════════════════════════════════════════════╝</span>\n",
       "</pre>\n"
      ],
      "text/plain": [
       "\u001b[32m╔═\u001b[0m\u001b[32m═══════════════════════════════════════════════\u001b[0m\u001b[32m \u001b[0m\u001b[1;37mTraining Result\u001b[0m\u001b[32m \u001b[0m\u001b[32m═══════════════════════════════════════════════\u001b[0m\u001b[32m═╗\u001b[0m\n",
       "\u001b[32m║\u001b[0m \u001b[1;32m✅ Training complete!\u001b[0m                                                                                           \u001b[32m║\u001b[0m\n",
       "\u001b[32m║\u001b[0m                                                                                                                 \u001b[32m║\u001b[0m\n",
       "\u001b[32m║\u001b[0m Positive class errors are penalized \u001b[1;36m2.02×\u001b[0m more than negative class errors.                                      \u001b[32m║\u001b[0m\n",
       "\u001b[32m║\u001b[0m This helps the model pay more attention to the minority class (positive comments).                              \u001b[32m║\u001b[0m\n",
       "\u001b[32m╚═════════════════════════════════════════════════════════════════════════════════════════════════════════════════╝\u001b[0m\n"
      ]
     },
     "metadata": {},
     "output_type": "display_data"
    }
   ],
   "source": [
    "console.rule(\"[bold blue]🤖 Training Logistic Regression[/bold blue]\")\n",
    "\n",
    "# [KEY DECISION] Initialize classifier with balanced weights\n",
    "clf_lr = LogisticRegression(\n",
    "    class_weight='balanced',   # AUTO-ADJUSTS: minority class errors penalized more\n",
    "    max_iter=1000,            # Enough iterations for convergence\n",
    "    random_state=42,\n",
    "    solver='lbfgs',           # Good for small-to-medium datasets\n",
    "    verbose=1                 # Set to 1 to see training progress\n",
    ")\n",
    "\n",
    "# Training info panel\n",
    "training_info = \"\"\"\n",
    "[bold cyan]Model Configuration:[/bold cyan]\n",
    "├─ Algorithm: Logistic Regression\n",
    "├─ Solver: LBFGS (L-BFGS-B algorithm)\n",
    "├─ Max Iterations: 1,000\n",
    "├─ Class Weights: Balanced (auto-adjusted)\n",
    "└─ Random State: 42\n",
    "\n",
    "[bold yellow]⏳ Training in progress...[/bold yellow]\n",
    "\"\"\"\n",
    "\n",
    "console.print(Panel(\n",
    "    training_info.strip(),\n",
    "    title=\"[bold white]Model Setup[/bold white]\",\n",
    "    border_style=\"blue\",\n",
    "    box=box.ROUNDED\n",
    "))\n",
    "\n",
    "# Train the model\n",
    "clf_lr.fit(X_train, y_train)\n",
    "\n",
    "# Show what the balanced weights actually are\n",
    "classes = clf_lr.classes_\n",
    "weights = len(y_train) / (len(classes) * np.bincount(y_train))\n",
    "\n",
    "# Create weights table\n",
    "weights_table = Table(\n",
    "    title=\"[bold white]Computed Class Weights[/bold white]\",\n",
    "    show_header=True,\n",
    "    header_style=\"bold magenta\",\n",
    "    border_style=\"green\",\n",
    "    box=box.SIMPLE\n",
    ")\n",
    "\n",
    "weights_table.add_column(\"Class\", style=\"cyan\", justify=\"center\")\n",
    "weights_table.add_column(\"Label\", style=\"yellow\", justify=\"center\")\n",
    "weights_table.add_column(\"Weight\", justify=\"right\", style=\"green\")\n",
    "weights_table.add_column(\"Impact\", style=\"white\")\n",
    "\n",
    "weights_table.add_row(\n",
    "    \"Negative\",\n",
    "    \"0\",\n",
    "    f\"{weights[0]:.3f}\",\n",
    "    \"Baseline\"\n",
    ")\n",
    "weights_table.add_row(\n",
    "    \"Positive\",\n",
    "    \"1\",\n",
    "    f\"{weights[1]:.3f}\",\n",
    "    f\"[bold]{weights[1]/weights[0]:.2f}× more penalty[/bold]\"\n",
    ")\n",
    "\n",
    "console.print(weights_table)\n",
    "\n",
    "console.print(Panel(\n",
    "    \"[bold green]✅ Training complete![/bold green]\\n\\n\"\n",
    "    f\"Positive class errors are penalized [bold cyan]{weights[1]/weights[0]:.2f}×[/bold cyan] more than negative class errors.\\n\"\n",
    "    \"This helps the model pay more attention to the minority class (positive comments).\",\n",
    "    title=\"[bold white]Training Result[/bold white]\",\n",
    "    border_style=\"green\",\n",
    "    box=box.DOUBLE\n",
    "))"
   ]
  },
  {
   "cell_type": "code",
   "execution_count": 45,
   "id": "c5ce23b9",
   "metadata": {},
   "outputs": [
    {
     "data": {
      "text/html": [
       "<pre style=\"white-space:pre;overflow-x:auto;line-height:normal;font-family:Menlo,'DejaVu Sans Mono',consolas,'Courier New',monospace\"><span style=\"color: #00ff00; text-decoration-color: #00ff00\">────────────────────────────────────────── </span><span style=\"color: #800080; text-decoration-color: #800080; font-weight: bold\">📈 Validation Set Performance</span><span style=\"color: #00ff00; text-decoration-color: #00ff00\"> ──────────────────────────────────────────</span>\n",
       "</pre>\n"
      ],
      "text/plain": [
       "\u001b[92m────────────────────────────────────────── \u001b[0m\u001b[1;35m📈 Validation Set Performance\u001b[0m\u001b[92m ──────────────────────────────────────────\u001b[0m\n"
      ]
     },
     "metadata": {},
     "output_type": "display_data"
    },
    {
     "data": {
      "text/html": [
       "<pre style=\"white-space:pre;overflow-x:auto;line-height:normal;font-family:Menlo,'DejaVu Sans Mono',consolas,'Courier New',monospace\"><span style=\"font-style: italic\">           </span><span style=\"color: #c0c0c0; text-decoration-color: #c0c0c0; font-weight: bold; font-style: italic\">Classification Metrics (Validation Set)</span><span style=\"font-style: italic\">           </span>\n",
       "<span style=\"color: #008080; text-decoration-color: #008080\">╭─────────────────┬───────────┬────────┬──────────┬─────────╮</span>\n",
       "<span style=\"color: #008080; text-decoration-color: #008080\">│</span><span style=\"color: #800080; text-decoration-color: #800080; font-weight: bold\"> Class           </span><span style=\"color: #008080; text-decoration-color: #008080\">│</span><span style=\"color: #800080; text-decoration-color: #800080; font-weight: bold\"> Precision </span><span style=\"color: #008080; text-decoration-color: #008080\">│</span><span style=\"color: #800080; text-decoration-color: #800080; font-weight: bold\"> Recall </span><span style=\"color: #008080; text-decoration-color: #008080\">│</span><span style=\"color: #800080; text-decoration-color: #800080; font-weight: bold\"> F1-Score </span><span style=\"color: #008080; text-decoration-color: #008080\">│</span><span style=\"color: #800080; text-decoration-color: #800080; font-weight: bold\"> Support </span><span style=\"color: #008080; text-decoration-color: #008080\">│</span>\n",
       "<span style=\"color: #008080; text-decoration-color: #008080\">├─────────────────┼───────────┼────────┼──────────┼─────────┤</span>\n",
       "<span style=\"color: #008080; text-decoration-color: #008080\">│ Negative (0)    │</span><span style=\"color: #808000; text-decoration-color: #808000\">     0.882 </span><span style=\"color: #008080; text-decoration-color: #008080\">│</span><span style=\"color: #008000; text-decoration-color: #008000\">  0.818 </span><span style=\"color: #008080; text-decoration-color: #008080\">│</span><span style=\"color: #000080; text-decoration-color: #000080\">    0.849 </span><span style=\"color: #008080; text-decoration-color: #008080\">│</span><span style=\"color: #c0c0c0; text-decoration-color: #c0c0c0\">    1044 </span><span style=\"color: #008080; text-decoration-color: #008080\">│</span>\n",
       "<span style=\"color: #008080; text-decoration-color: #008080\">│ Positive (1)    │</span><span style=\"color: #808000; text-decoration-color: #808000\">     0.679 </span><span style=\"color: #008080; text-decoration-color: #008080\">│</span><span style=\"color: #008000; text-decoration-color: #008000\">  0.779 </span><span style=\"color: #008080; text-decoration-color: #008080\">│</span><span style=\"color: #000080; text-decoration-color: #000080\">    0.726 </span><span style=\"color: #008080; text-decoration-color: #008080\">│</span><span style=\"color: #c0c0c0; text-decoration-color: #c0c0c0\">     516 </span><span style=\"color: #008080; text-decoration-color: #008080\">│</span>\n",
       "<span style=\"color: #008080; text-decoration-color: #008080\">├─────────────────┼───────────┼────────┼──────────┼─────────┤</span>\n",
       "<span style=\"color: #008080; text-decoration-color: #008080\">│ </span><span style=\"color: #008080; text-decoration-color: #008080; font-weight: bold\">Accuracy</span><span style=\"color: #008080; text-decoration-color: #008080\">        │</span><span style=\"color: #808000; text-decoration-color: #808000\">           </span><span style=\"color: #008080; text-decoration-color: #008080\">│</span><span style=\"color: #008000; text-decoration-color: #008000\">        </span><span style=\"color: #008080; text-decoration-color: #008080\">│</span><span style=\"color: #000080; text-decoration-color: #000080\">    </span><span style=\"color: #000080; text-decoration-color: #000080; font-weight: bold\">0.805</span><span style=\"color: #000080; text-decoration-color: #000080\"> </span><span style=\"color: #008080; text-decoration-color: #008080\">│</span><span style=\"color: #c0c0c0; text-decoration-color: #c0c0c0\">    1560 </span><span style=\"color: #008080; text-decoration-color: #008080\">│</span>\n",
       "<span style=\"color: #008080; text-decoration-color: #008080\">╰─────────────────┴───────────┴────────┴──────────┴─────────╯</span>\n",
       "</pre>\n"
      ],
      "text/plain": [
       "\u001b[3m           \u001b[0m\u001b[1;3;37mClassification Metrics (Validation Set)\u001b[0m\u001b[3m           \u001b[0m\n",
       "\u001b[36m╭─────────────────┬───────────┬────────┬──────────┬─────────╮\u001b[0m\n",
       "\u001b[36m│\u001b[0m\u001b[1;35m \u001b[0m\u001b[1;35mClass          \u001b[0m\u001b[1;35m \u001b[0m\u001b[36m│\u001b[0m\u001b[1;35m \u001b[0m\u001b[1;35mPrecision\u001b[0m\u001b[1;35m \u001b[0m\u001b[36m│\u001b[0m\u001b[1;35m \u001b[0m\u001b[1;35mRecall\u001b[0m\u001b[1;35m \u001b[0m\u001b[36m│\u001b[0m\u001b[1;35m \u001b[0m\u001b[1;35mF1-Score\u001b[0m\u001b[1;35m \u001b[0m\u001b[36m│\u001b[0m\u001b[1;35m \u001b[0m\u001b[1;35mSupport\u001b[0m\u001b[1;35m \u001b[0m\u001b[36m│\u001b[0m\n",
       "\u001b[36m├─────────────────┼───────────┼────────┼──────────┼─────────┤\u001b[0m\n",
       "\u001b[36m│\u001b[0m\u001b[36m \u001b[0m\u001b[36mNegative (0)   \u001b[0m\u001b[36m \u001b[0m\u001b[36m│\u001b[0m\u001b[33m \u001b[0m\u001b[33m    0.882\u001b[0m\u001b[33m \u001b[0m\u001b[36m│\u001b[0m\u001b[32m \u001b[0m\u001b[32m 0.818\u001b[0m\u001b[32m \u001b[0m\u001b[36m│\u001b[0m\u001b[34m \u001b[0m\u001b[34m   0.849\u001b[0m\u001b[34m \u001b[0m\u001b[36m│\u001b[0m\u001b[37m \u001b[0m\u001b[37m   1044\u001b[0m\u001b[37m \u001b[0m\u001b[36m│\u001b[0m\n",
       "\u001b[36m│\u001b[0m\u001b[36m \u001b[0m\u001b[36mPositive (1)   \u001b[0m\u001b[36m \u001b[0m\u001b[36m│\u001b[0m\u001b[33m \u001b[0m\u001b[33m    0.679\u001b[0m\u001b[33m \u001b[0m\u001b[36m│\u001b[0m\u001b[32m \u001b[0m\u001b[32m 0.779\u001b[0m\u001b[32m \u001b[0m\u001b[36m│\u001b[0m\u001b[34m \u001b[0m\u001b[34m   0.726\u001b[0m\u001b[34m \u001b[0m\u001b[36m│\u001b[0m\u001b[37m \u001b[0m\u001b[37m    516\u001b[0m\u001b[37m \u001b[0m\u001b[36m│\u001b[0m\n",
       "\u001b[36m├─────────────────┼───────────┼────────┼──────────┼─────────┤\u001b[0m\n",
       "\u001b[36m│\u001b[0m\u001b[36m \u001b[0m\u001b[1;36mAccuracy\u001b[0m\u001b[36m       \u001b[0m\u001b[36m \u001b[0m\u001b[36m│\u001b[0m\u001b[33m \u001b[0m\u001b[33m         \u001b[0m\u001b[33m \u001b[0m\u001b[36m│\u001b[0m\u001b[32m \u001b[0m\u001b[32m      \u001b[0m\u001b[32m \u001b[0m\u001b[36m│\u001b[0m\u001b[34m \u001b[0m\u001b[34m   \u001b[0m\u001b[1;34m0.805\u001b[0m\u001b[34m \u001b[0m\u001b[36m│\u001b[0m\u001b[37m \u001b[0m\u001b[37m   1560\u001b[0m\u001b[37m \u001b[0m\u001b[36m│\u001b[0m\n",
       "\u001b[36m╰─────────────────┴───────────┴────────┴──────────┴─────────╯\u001b[0m\n"
      ]
     },
     "metadata": {},
     "output_type": "display_data"
    },
    {
     "data": {
      "text/html": [
       "<pre style=\"white-space:pre;overflow-x:auto;line-height:normal;font-family:Menlo,'DejaVu Sans Mono',consolas,'Courier New',monospace\"><span style=\"font-style: italic\">           </span><span style=\"color: #c0c0c0; text-decoration-color: #c0c0c0; font-weight: bold; font-style: italic\">Confusion Matrix (Validation)</span><span style=\"font-style: italic\">           </span>\n",
       "<span style=\"color: #808000; text-decoration-color: #808000\">┏━━━━━━━━━━━━━━━━━┳━━━━━━━━━━━━━━━┳━━━━━━━━━━━━━━━┓</span>\n",
       "<span style=\"color: #808000; text-decoration-color: #808000\">┃</span><span style=\"color: #800080; text-decoration-color: #800080; font-weight: bold\">                 </span><span style=\"color: #808000; text-decoration-color: #808000\">┃</span><span style=\"color: #800080; text-decoration-color: #800080; font-weight: bold\"> Predicted Neg </span><span style=\"color: #808000; text-decoration-color: #808000\">┃</span><span style=\"color: #800080; text-decoration-color: #800080; font-weight: bold\"> Predicted Pos </span><span style=\"color: #808000; text-decoration-color: #808000\">┃</span>\n",
       "<span style=\"color: #808000; text-decoration-color: #808000\">┣━━━━━━━━━━━━━━━━━╋━━━━━━━━━━━━━━━╋━━━━━━━━━━━━━━━┫</span>\n",
       "<span style=\"color: #808000; text-decoration-color: #808000\">┃</span><span style=\"color: #008080; text-decoration-color: #008080\"> </span><span style=\"color: #008080; text-decoration-color: #008080; font-weight: bold\">Actual Neg</span><span style=\"color: #008080; text-decoration-color: #008080\">      </span><span style=\"color: #808000; text-decoration-color: #808000\">┃</span><span style=\"color: #800000; text-decoration-color: #800000\">      </span><span style=\"color: #008000; text-decoration-color: #008000; font-weight: bold\">854</span><span style=\"color: #800000; text-decoration-color: #800000\">      </span><span style=\"color: #808000; text-decoration-color: #808000\">┃</span><span style=\"color: #008000; text-decoration-color: #008000\">      </span><span style=\"color: #800000; text-decoration-color: #800000\">190</span><span style=\"color: #008000; text-decoration-color: #008000\">      </span><span style=\"color: #808000; text-decoration-color: #808000\">┃</span>\n",
       "<span style=\"color: #808000; text-decoration-color: #808000\">┃</span><span style=\"color: #008080; text-decoration-color: #008080\"> </span><span style=\"color: #008080; text-decoration-color: #008080; font-weight: bold\">Actual Pos</span><span style=\"color: #008080; text-decoration-color: #008080\">      </span><span style=\"color: #808000; text-decoration-color: #808000\">┃</span><span style=\"color: #800000; text-decoration-color: #800000\">      114      </span><span style=\"color: #808000; text-decoration-color: #808000\">┃</span><span style=\"color: #008000; text-decoration-color: #008000\">      </span><span style=\"color: #008000; text-decoration-color: #008000; font-weight: bold\">402</span><span style=\"color: #008000; text-decoration-color: #008000\">      </span><span style=\"color: #808000; text-decoration-color: #808000\">┃</span>\n",
       "<span style=\"color: #808000; text-decoration-color: #808000\">┗━━━━━━━━━━━━━━━━━┻━━━━━━━━━━━━━━━┻━━━━━━━━━━━━━━━┛</span>\n",
       "</pre>\n"
      ],
      "text/plain": [
       "\u001b[3m           \u001b[0m\u001b[1;3;37mConfusion Matrix (Validation)\u001b[0m\u001b[3m           \u001b[0m\n",
       "\u001b[33m┏━━━━━━━━━━━━━━━━━┳━━━━━━━━━━━━━━━┳━━━━━━━━━━━━━━━┓\u001b[0m\n",
       "\u001b[33m┃\u001b[0m\u001b[1;35m \u001b[0m\u001b[1;35m               \u001b[0m\u001b[1;35m \u001b[0m\u001b[33m┃\u001b[0m\u001b[1;35m \u001b[0m\u001b[1;35mPredicted Neg\u001b[0m\u001b[1;35m \u001b[0m\u001b[33m┃\u001b[0m\u001b[1;35m \u001b[0m\u001b[1;35mPredicted Pos\u001b[0m\u001b[1;35m \u001b[0m\u001b[33m┃\u001b[0m\n",
       "\u001b[33m┣━━━━━━━━━━━━━━━━━╋━━━━━━━━━━━━━━━╋━━━━━━━━━━━━━━━┫\u001b[0m\n",
       "\u001b[33m┃\u001b[0m\u001b[36m \u001b[0m\u001b[1;36mActual Neg\u001b[0m\u001b[36m     \u001b[0m\u001b[36m \u001b[0m\u001b[33m┃\u001b[0m\u001b[31m \u001b[0m\u001b[31m     \u001b[0m\u001b[1;32m854\u001b[0m\u001b[31m     \u001b[0m\u001b[31m \u001b[0m\u001b[33m┃\u001b[0m\u001b[32m \u001b[0m\u001b[32m     \u001b[0m\u001b[31m190\u001b[0m\u001b[32m     \u001b[0m\u001b[32m \u001b[0m\u001b[33m┃\u001b[0m\n",
       "\u001b[33m┃\u001b[0m\u001b[36m \u001b[0m\u001b[1;36mActual Pos\u001b[0m\u001b[36m     \u001b[0m\u001b[36m \u001b[0m\u001b[33m┃\u001b[0m\u001b[31m \u001b[0m\u001b[31m     \u001b[0m\u001b[31m114\u001b[0m\u001b[31m     \u001b[0m\u001b[31m \u001b[0m\u001b[33m┃\u001b[0m\u001b[32m \u001b[0m\u001b[32m     \u001b[0m\u001b[1;32m402\u001b[0m\u001b[32m     \u001b[0m\u001b[32m \u001b[0m\u001b[33m┃\u001b[0m\n",
       "\u001b[33m┗━━━━━━━━━━━━━━━━━┻━━━━━━━━━━━━━━━┻━━━━━━━━━━━━━━━┛\u001b[0m\n"
      ]
     },
     "metadata": {},
     "output_type": "display_data"
    },
    {
     "data": {
      "text/html": [
       "<pre style=\"white-space:pre;overflow-x:auto;line-height:normal;font-family:Menlo,'DejaVu Sans Mono',consolas,'Courier New',monospace\"><span style=\"color: #008000; text-decoration-color: #008000\">╔══════════════════════════════════════════════ </span><span style=\"color: #c0c0c0; text-decoration-color: #c0c0c0; font-weight: bold\">Validation Summary</span><span style=\"color: #008000; text-decoration-color: #008000\"> ═══════════════════════════════════════════════╗</span>\n",
       "<span style=\"color: #008000; text-decoration-color: #008000\">║</span> <span style=\"color: #008000; text-decoration-color: #008000; font-weight: bold\">✅ Validation Performance Summary</span>                                                                               <span style=\"color: #008000; text-decoration-color: #008000\">║</span>\n",
       "<span style=\"color: #008000; text-decoration-color: #008000\">║</span>                                                                                                                 <span style=\"color: #008000; text-decoration-color: #008000\">║</span>\n",
       "<span style=\"color: #008000; text-decoration-color: #008000\">║</span> <span style=\"color: #008080; text-decoration-color: #008080; font-weight: bold\">Key Metrics:</span>                                                                                                    <span style=\"color: #008000; text-decoration-color: #008000\">║</span>\n",
       "<span style=\"color: #008000; text-decoration-color: #008000\">║</span> ├─ F1-Score: <span style=\"color: #808000; text-decoration-color: #808000; font-weight: bold\">0.726</span> (best for imbalanced data)                                                                   <span style=\"color: #008000; text-decoration-color: #008000\">║</span>\n",
       "<span style=\"color: #008000; text-decoration-color: #008000\">║</span> ├─ Accuracy: <span style=\"color: #808000; text-decoration-color: #808000; font-weight: bold\">0.805</span>                                                                                              <span style=\"color: #008000; text-decoration-color: #008000\">║</span>\n",
       "<span style=\"color: #008000; text-decoration-color: #008000\">║</span> ├─ Correct:  1256 / 1560 predictions                                                                            <span style=\"color: #008000; text-decoration-color: #008000\">║</span>\n",
       "<span style=\"color: #008000; text-decoration-color: #008000\">║</span> └─ Errors:   304 misclassifications                                                                             <span style=\"color: #008000; text-decoration-color: #008000\">║</span>\n",
       "<span style=\"color: #008000; text-decoration-color: #008000\">║</span>                                                                                                                 <span style=\"color: #008000; text-decoration-color: #008000\">║</span>\n",
       "<span style=\"color: #008000; text-decoration-color: #008000\">║</span> <span style=\"color: #c0c0c0; text-decoration-color: #c0c0c0; font-weight: bold\">Interpretation:</span>                                                                                                 <span style=\"color: #008000; text-decoration-color: #008000\">║</span>\n",
       "<span style=\"color: #008000; text-decoration-color: #008000\">║</span> • Green diagonal = correct predictions                                                                          <span style=\"color: #008000; text-decoration-color: #008000\">║</span>\n",
       "<span style=\"color: #008000; text-decoration-color: #008000\">║</span> • Red off-diagonal = errors (misclassifications)                                                                <span style=\"color: #008000; text-decoration-color: #008000\">║</span>\n",
       "<span style=\"color: #008000; text-decoration-color: #008000\">╚═════════════════════════════════════════════════════════════════════════════════════════════════════════════════╝</span>\n",
       "</pre>\n"
      ],
      "text/plain": [
       "\u001b[32m╔═\u001b[0m\u001b[32m═════════════════════════════════════════════\u001b[0m\u001b[32m \u001b[0m\u001b[1;37mValidation Summary\u001b[0m\u001b[32m \u001b[0m\u001b[32m══════════════════════════════════════════════\u001b[0m\u001b[32m═╗\u001b[0m\n",
       "\u001b[32m║\u001b[0m \u001b[1;32m✅ Validation Performance Summary\u001b[0m                                                                               \u001b[32m║\u001b[0m\n",
       "\u001b[32m║\u001b[0m                                                                                                                 \u001b[32m║\u001b[0m\n",
       "\u001b[32m║\u001b[0m \u001b[1;36mKey Metrics:\u001b[0m                                                                                                    \u001b[32m║\u001b[0m\n",
       "\u001b[32m║\u001b[0m ├─ F1-Score: \u001b[1;33m0.726\u001b[0m (best for imbalanced data)                                                                   \u001b[32m║\u001b[0m\n",
       "\u001b[32m║\u001b[0m ├─ Accuracy: \u001b[1;33m0.805\u001b[0m                                                                                              \u001b[32m║\u001b[0m\n",
       "\u001b[32m║\u001b[0m ├─ Correct:  1256 / 1560 predictions                                                                            \u001b[32m║\u001b[0m\n",
       "\u001b[32m║\u001b[0m └─ Errors:   304 misclassifications                                                                             \u001b[32m║\u001b[0m\n",
       "\u001b[32m║\u001b[0m                                                                                                                 \u001b[32m║\u001b[0m\n",
       "\u001b[32m║\u001b[0m \u001b[1;37mInterpretation:\u001b[0m                                                                                                 \u001b[32m║\u001b[0m\n",
       "\u001b[32m║\u001b[0m • Green diagonal = correct predictions                                                                          \u001b[32m║\u001b[0m\n",
       "\u001b[32m║\u001b[0m • Red off-diagonal = errors (misclassifications)                                                                \u001b[32m║\u001b[0m\n",
       "\u001b[32m╚═════════════════════════════════════════════════════════════════════════════════════════════════════════════════╝\u001b[0m\n"
      ]
     },
     "metadata": {},
     "output_type": "display_data"
    }
   ],
   "source": [
    "console.rule(\"[bold magenta]📈 Validation Set Performance[/bold magenta]\")\n",
    "\n",
    "# Make predictions on validation set\n",
    "y_val_pred = clf_lr.predict(X_val)\n",
    "\n",
    "# Get classification report as dict\n",
    "from sklearn.metrics import classification_report\n",
    "\n",
    "report_dict = classification_report(\n",
    "    y_val, \n",
    "    y_val_pred, \n",
    "    target_names=['Negative (0)', 'Positive (1)'],\n",
    "    output_dict=True\n",
    ")\n",
    "\n",
    "# Create metrics table\n",
    "metrics_table = Table(\n",
    "    title=\"[bold white]Classification Metrics (Validation Set)[/bold white]\",\n",
    "    show_header=True,\n",
    "    header_style=\"bold magenta\",\n",
    "    border_style=\"cyan\",\n",
    "    box=box.ROUNDED\n",
    ")\n",
    "\n",
    "metrics_table.add_column(\"Class\", style=\"cyan\", width=15)\n",
    "metrics_table.add_column(\"Precision\", justify=\"right\", style=\"yellow\")\n",
    "metrics_table.add_column(\"Recall\", justify=\"right\", style=\"green\")\n",
    "metrics_table.add_column(\"F1-Score\", justify=\"right\", style=\"blue\")\n",
    "metrics_table.add_column(\"Support\", justify=\"right\", style=\"white\")\n",
    "\n",
    "# Add rows for each class\n",
    "for class_name in ['Negative (0)', 'Positive (1)']:\n",
    "    metrics = report_dict[class_name]\n",
    "    metrics_table.add_row(\n",
    "        class_name,\n",
    "        f\"{metrics['precision']:.3f}\",\n",
    "        f\"{metrics['recall']:.3f}\",\n",
    "        f\"{metrics['f1-score']:.3f}\",\n",
    "        f\"{int(metrics['support'])}\"\n",
    "    )\n",
    "\n",
    "# Add separator\n",
    "metrics_table.add_section()\n",
    "\n",
    "# Add overall metrics\n",
    "accuracy = report_dict['accuracy']\n",
    "metrics_table.add_row(\n",
    "    \"[bold]Accuracy[/bold]\",\n",
    "    \"\",\n",
    "    \"\",\n",
    "    f\"[bold]{accuracy:.3f}[/bold]\",\n",
    "    f\"{int(report_dict['macro avg']['support'])}\"\n",
    ")\n",
    "\n",
    "console.print(metrics_table)\n",
    "\n",
    "# Show confusion matrix in a nice table\n",
    "cm_val = confusion_matrix(y_val, y_val_pred)\n",
    "\n",
    "cm_table = Table(\n",
    "    title=\"[bold white]Confusion Matrix (Validation)[/bold white]\",\n",
    "    show_header=True,\n",
    "    header_style=\"bold magenta\",\n",
    "    border_style=\"yellow\",\n",
    "    box=box.HEAVY\n",
    ")\n",
    "\n",
    "cm_table.add_column(\"\", style=\"cyan\", width=15)\n",
    "cm_table.add_column(\"Predicted Neg\", justify=\"center\", style=\"red\")\n",
    "cm_table.add_column(\"Predicted Pos\", justify=\"center\", style=\"green\")\n",
    "\n",
    "cm_table.add_row(\n",
    "    \"[bold]Actual Neg[/bold]\",\n",
    "    f\"[bold green]{cm_val[0,0]}[/bold green]\",\n",
    "    f\"[red]{cm_val[0,1]}[/red]\"\n",
    ")\n",
    "cm_table.add_row(\n",
    "    \"[bold]Actual Pos[/bold]\",\n",
    "    f\"[red]{cm_val[1,0]}[/red]\",\n",
    "    f\"[bold green]{cm_val[1,1]}[/bold green]\"\n",
    ")\n",
    "\n",
    "console.print(cm_table)\n",
    "\n",
    "# Calculate key metrics\n",
    "f1_val = f1_score(y_val, y_val_pred)\n",
    "correct = cm_val[0,0] + cm_val[1,1]\n",
    "total = len(y_val)\n",
    "\n",
    "# Summary panel\n",
    "summary = f\"\"\"\n",
    "[bold green]✅ Validation Performance Summary[/bold green]\n",
    "\n",
    "[bold cyan]Key Metrics:[/bold cyan]\n",
    "├─ F1-Score: [bold yellow]{f1_val:.3f}[/bold yellow] (best for imbalanced data)\n",
    "├─ Accuracy: [bold yellow]{accuracy:.3f}[/bold yellow]\n",
    "├─ Correct:  {correct} / {total} predictions\n",
    "└─ Errors:   {total - correct} misclassifications\n",
    "\n",
    "[bold white]Interpretation:[/bold white]\n",
    "• Green diagonal = correct predictions\n",
    "• Red off-diagonal = errors (misclassifications)\n",
    "\"\"\"\n",
    "\n",
    "console.print(Panel(\n",
    "    summary.strip(),\n",
    "    title=\"[bold white]Validation Summary[/bold white]\",\n",
    "    border_style=\"green\",\n",
    "    box=box.DOUBLE\n",
    "))"
   ]
  },
  {
   "cell_type": "code",
   "execution_count": 46,
   "id": "b0d32f0b",
   "metadata": {},
   "outputs": [
    {
     "data": {
      "text/html": [
       "<pre style=\"white-space:pre;overflow-x:auto;line-height:normal;font-family:Menlo,'DejaVu Sans Mono',consolas,'Courier New',monospace\"><span style=\"color: #00ff00; text-decoration-color: #00ff00\">────────────────────────────────────────── </span><span style=\"color: #800000; text-decoration-color: #800000; font-weight: bold\">🏆 Final Test Set Evaluation</span><span style=\"color: #00ff00; text-decoration-color: #00ff00\"> ───────────────────────────────────────────</span>\n",
       "</pre>\n"
      ],
      "text/plain": [
       "\u001b[92m────────────────────────────────────────── \u001b[0m\u001b[1;31m🏆 Final Test Set Evaluation\u001b[0m\u001b[92m ───────────────────────────────────────────\u001b[0m\n"
      ]
     },
     "metadata": {},
     "output_type": "display_data"
    },
    {
     "data": {
      "text/html": [
       "<pre style=\"white-space:pre;overflow-x:auto;line-height:normal;font-family:Menlo,'DejaVu Sans Mono',consolas,'Courier New',monospace\"><span style=\"font-style: italic\">     </span><span style=\"color: #c0c0c0; text-decoration-color: #c0c0c0; font-weight: bold; font-style: italic\">📊 Final Test Set Metrics (Report for trabalho.md)</span><span style=\"font-style: italic\">      </span>\n",
       "<span style=\"color: #800000; text-decoration-color: #800000\">╔═════════════════╤═══════════╤════════╤══════════╤═════════╗</span>\n",
       "<span style=\"color: #800000; text-decoration-color: #800000\">║</span><span style=\"color: #800080; text-decoration-color: #800080; font-weight: bold\"> Class           </span><span style=\"color: #800000; text-decoration-color: #800000\">│</span><span style=\"color: #800080; text-decoration-color: #800080; font-weight: bold\"> Precision </span><span style=\"color: #800000; text-decoration-color: #800000\">│</span><span style=\"color: #800080; text-decoration-color: #800080; font-weight: bold\"> Recall </span><span style=\"color: #800000; text-decoration-color: #800000\">│</span><span style=\"color: #800080; text-decoration-color: #800080; font-weight: bold\"> F1-Score </span><span style=\"color: #800000; text-decoration-color: #800000\">│</span><span style=\"color: #800080; text-decoration-color: #800080; font-weight: bold\"> Support </span><span style=\"color: #800000; text-decoration-color: #800000\">║</span>\n",
       "<span style=\"color: #800000; text-decoration-color: #800000\">╟─────────────────┼───────────┼────────┼──────────┼─────────╢</span>\n",
       "<span style=\"color: #800000; text-decoration-color: #800000\">║</span><span style=\"color: #008080; text-decoration-color: #008080\"> Negative (0)    </span><span style=\"color: #800000; text-decoration-color: #800000\">│</span><span style=\"color: #808000; text-decoration-color: #808000\">     0.867 </span><span style=\"color: #800000; text-decoration-color: #800000\">│</span><span style=\"color: #008000; text-decoration-color: #008000\">  0.833 </span><span style=\"color: #800000; text-decoration-color: #800000\">│</span><span style=\"color: #000080; text-decoration-color: #000080\">    0.850 </span><span style=\"color: #800000; text-decoration-color: #800000\">│</span><span style=\"color: #c0c0c0; text-decoration-color: #c0c0c0\">    1044 </span><span style=\"color: #800000; text-decoration-color: #800000\">║</span>\n",
       "<span style=\"color: #800000; text-decoration-color: #800000\">║</span><span style=\"color: #008080; text-decoration-color: #008080\"> Positive (1)    </span><span style=\"color: #800000; text-decoration-color: #800000\">│</span><span style=\"color: #808000; text-decoration-color: #808000\">     0.687 </span><span style=\"color: #800000; text-decoration-color: #800000\">│</span><span style=\"color: #008000; text-decoration-color: #008000\">  0.740 </span><span style=\"color: #800000; text-decoration-color: #800000\">│</span><span style=\"color: #000080; text-decoration-color: #000080\">    0.713 </span><span style=\"color: #800000; text-decoration-color: #800000\">│</span><span style=\"color: #c0c0c0; text-decoration-color: #c0c0c0\">     516 </span><span style=\"color: #800000; text-decoration-color: #800000\">║</span>\n",
       "<span style=\"color: #800000; text-decoration-color: #800000\">╟─────────────────┼───────────┼────────┼──────────┼─────────╢</span>\n",
       "<span style=\"color: #800000; text-decoration-color: #800000\">║</span><span style=\"color: #008080; text-decoration-color: #008080\"> </span><span style=\"color: #008080; text-decoration-color: #008080; font-weight: bold\">Accuracy</span><span style=\"color: #008080; text-decoration-color: #008080\">        </span><span style=\"color: #800000; text-decoration-color: #800000\">│</span><span style=\"color: #808000; text-decoration-color: #808000\">           </span><span style=\"color: #800000; text-decoration-color: #800000\">│</span><span style=\"color: #008000; text-decoration-color: #008000\">        </span><span style=\"color: #800000; text-decoration-color: #800000\">│</span><span style=\"color: #000080; text-decoration-color: #000080\">    </span><span style=\"color: #000080; text-decoration-color: #000080; font-weight: bold\">0.803</span><span style=\"color: #000080; text-decoration-color: #000080\"> </span><span style=\"color: #800000; text-decoration-color: #800000\">│</span><span style=\"color: #c0c0c0; text-decoration-color: #c0c0c0\">    1560 </span><span style=\"color: #800000; text-decoration-color: #800000\">║</span>\n",
       "<span style=\"color: #800000; text-decoration-color: #800000\">╚═════════════════╧═══════════╧════════╧══════════╧═════════╝</span>\n",
       "</pre>\n"
      ],
      "text/plain": [
       "\u001b[3m     \u001b[0m\u001b[1;3;37m📊 Final Test Set Metrics (Report for trabalho.md)\u001b[0m\u001b[3m      \u001b[0m\n",
       "\u001b[31m╔═════════════════╤═══════════╤════════╤══════════╤═════════╗\u001b[0m\n",
       "\u001b[31m║\u001b[0m\u001b[1;35m \u001b[0m\u001b[1;35mClass          \u001b[0m\u001b[1;35m \u001b[0m\u001b[31m│\u001b[0m\u001b[1;35m \u001b[0m\u001b[1;35mPrecision\u001b[0m\u001b[1;35m \u001b[0m\u001b[31m│\u001b[0m\u001b[1;35m \u001b[0m\u001b[1;35mRecall\u001b[0m\u001b[1;35m \u001b[0m\u001b[31m│\u001b[0m\u001b[1;35m \u001b[0m\u001b[1;35mF1-Score\u001b[0m\u001b[1;35m \u001b[0m\u001b[31m│\u001b[0m\u001b[1;35m \u001b[0m\u001b[1;35mSupport\u001b[0m\u001b[1;35m \u001b[0m\u001b[31m║\u001b[0m\n",
       "\u001b[31m╟─────────────────┼───────────┼────────┼──────────┼─────────╢\u001b[0m\n",
       "\u001b[31m║\u001b[0m\u001b[36m \u001b[0m\u001b[36mNegative (0)   \u001b[0m\u001b[36m \u001b[0m\u001b[31m│\u001b[0m\u001b[33m \u001b[0m\u001b[33m    0.867\u001b[0m\u001b[33m \u001b[0m\u001b[31m│\u001b[0m\u001b[32m \u001b[0m\u001b[32m 0.833\u001b[0m\u001b[32m \u001b[0m\u001b[31m│\u001b[0m\u001b[34m \u001b[0m\u001b[34m   0.850\u001b[0m\u001b[34m \u001b[0m\u001b[31m│\u001b[0m\u001b[37m \u001b[0m\u001b[37m   1044\u001b[0m\u001b[37m \u001b[0m\u001b[31m║\u001b[0m\n",
       "\u001b[31m║\u001b[0m\u001b[36m \u001b[0m\u001b[36mPositive (1)   \u001b[0m\u001b[36m \u001b[0m\u001b[31m│\u001b[0m\u001b[33m \u001b[0m\u001b[33m    0.687\u001b[0m\u001b[33m \u001b[0m\u001b[31m│\u001b[0m\u001b[32m \u001b[0m\u001b[32m 0.740\u001b[0m\u001b[32m \u001b[0m\u001b[31m│\u001b[0m\u001b[34m \u001b[0m\u001b[34m   0.713\u001b[0m\u001b[34m \u001b[0m\u001b[31m│\u001b[0m\u001b[37m \u001b[0m\u001b[37m    516\u001b[0m\u001b[37m \u001b[0m\u001b[31m║\u001b[0m\n",
       "\u001b[31m╟─────────────────┼───────────┼────────┼──────────┼─────────╢\u001b[0m\n",
       "\u001b[31m║\u001b[0m\u001b[36m \u001b[0m\u001b[1;36mAccuracy\u001b[0m\u001b[36m       \u001b[0m\u001b[36m \u001b[0m\u001b[31m│\u001b[0m\u001b[33m \u001b[0m\u001b[33m         \u001b[0m\u001b[33m \u001b[0m\u001b[31m│\u001b[0m\u001b[32m \u001b[0m\u001b[32m      \u001b[0m\u001b[32m \u001b[0m\u001b[31m│\u001b[0m\u001b[34m \u001b[0m\u001b[34m   \u001b[0m\u001b[1;34m0.803\u001b[0m\u001b[34m \u001b[0m\u001b[31m│\u001b[0m\u001b[37m \u001b[0m\u001b[37m   1560\u001b[0m\u001b[37m \u001b[0m\u001b[31m║\u001b[0m\n",
       "\u001b[31m╚═════════════════╧═══════════╧════════╧══════════╧═════════╝\u001b[0m\n"
      ]
     },
     "metadata": {},
     "output_type": "display_data"
    },
    {
     "data": {
      "text/html": [
       "<pre style=\"white-space:pre;overflow-x:auto;line-height:normal;font-family:Menlo,'DejaVu Sans Mono',consolas,'Courier New',monospace\"><span style=\"font-style: italic\">            </span><span style=\"color: #c0c0c0; text-decoration-color: #c0c0c0; font-weight: bold; font-style: italic\">Confusion Matrix (Test Set)</span><span style=\"font-style: italic\">            </span>\n",
       "<span style=\"color: #800000; text-decoration-color: #800000\">┏━━━━━━━━━━━━━━━━━┳━━━━━━━━━━━━━━━┳━━━━━━━━━━━━━━━┓</span>\n",
       "<span style=\"color: #800000; text-decoration-color: #800000\">┃</span><span style=\"color: #800080; text-decoration-color: #800080; font-weight: bold\">                 </span><span style=\"color: #800000; text-decoration-color: #800000\">┃</span><span style=\"color: #800080; text-decoration-color: #800080; font-weight: bold\"> Predicted Neg </span><span style=\"color: #800000; text-decoration-color: #800000\">┃</span><span style=\"color: #800080; text-decoration-color: #800080; font-weight: bold\"> Predicted Pos </span><span style=\"color: #800000; text-decoration-color: #800000\">┃</span>\n",
       "<span style=\"color: #800000; text-decoration-color: #800000\">┣━━━━━━━━━━━━━━━━━╋━━━━━━━━━━━━━━━╋━━━━━━━━━━━━━━━┫</span>\n",
       "<span style=\"color: #800000; text-decoration-color: #800000\">┃</span><span style=\"color: #008080; text-decoration-color: #008080\"> </span><span style=\"color: #008080; text-decoration-color: #008080; font-weight: bold\">Actual Neg</span><span style=\"color: #008080; text-decoration-color: #008080\">      </span><span style=\"color: #800000; text-decoration-color: #800000\">┃      </span><span style=\"color: #008000; text-decoration-color: #008000; font-weight: bold\">870</span><span style=\"color: #800000; text-decoration-color: #800000\">      ┃</span><span style=\"color: #008000; text-decoration-color: #008000\">      </span><span style=\"color: #800000; text-decoration-color: #800000\">174</span><span style=\"color: #008000; text-decoration-color: #008000\">      </span><span style=\"color: #800000; text-decoration-color: #800000\">┃</span>\n",
       "<span style=\"color: #800000; text-decoration-color: #800000\">┃</span><span style=\"color: #008080; text-decoration-color: #008080\"> </span><span style=\"color: #008080; text-decoration-color: #008080; font-weight: bold\">Actual Pos</span><span style=\"color: #008080; text-decoration-color: #008080\">      </span><span style=\"color: #800000; text-decoration-color: #800000\">┃      134      ┃</span><span style=\"color: #008000; text-decoration-color: #008000\">      </span><span style=\"color: #008000; text-decoration-color: #008000; font-weight: bold\">382</span><span style=\"color: #008000; text-decoration-color: #008000\">      </span><span style=\"color: #800000; text-decoration-color: #800000\">┃</span>\n",
       "<span style=\"color: #800000; text-decoration-color: #800000\">┗━━━━━━━━━━━━━━━━━┻━━━━━━━━━━━━━━━┻━━━━━━━━━━━━━━━┛</span>\n",
       "</pre>\n"
      ],
      "text/plain": [
       "\u001b[3m            \u001b[0m\u001b[1;3;37mConfusion Matrix (Test Set)\u001b[0m\u001b[3m            \u001b[0m\n",
       "\u001b[31m┏━━━━━━━━━━━━━━━━━┳━━━━━━━━━━━━━━━┳━━━━━━━━━━━━━━━┓\u001b[0m\n",
       "\u001b[31m┃\u001b[0m\u001b[1;35m \u001b[0m\u001b[1;35m               \u001b[0m\u001b[1;35m \u001b[0m\u001b[31m┃\u001b[0m\u001b[1;35m \u001b[0m\u001b[1;35mPredicted Neg\u001b[0m\u001b[1;35m \u001b[0m\u001b[31m┃\u001b[0m\u001b[1;35m \u001b[0m\u001b[1;35mPredicted Pos\u001b[0m\u001b[1;35m \u001b[0m\u001b[31m┃\u001b[0m\n",
       "\u001b[31m┣━━━━━━━━━━━━━━━━━╋━━━━━━━━━━━━━━━╋━━━━━━━━━━━━━━━┫\u001b[0m\n",
       "\u001b[31m┃\u001b[0m\u001b[36m \u001b[0m\u001b[1;36mActual Neg\u001b[0m\u001b[36m     \u001b[0m\u001b[36m \u001b[0m\u001b[31m┃\u001b[0m\u001b[31m \u001b[0m\u001b[31m     \u001b[0m\u001b[1;32m870\u001b[0m\u001b[31m     \u001b[0m\u001b[31m \u001b[0m\u001b[31m┃\u001b[0m\u001b[32m \u001b[0m\u001b[32m     \u001b[0m\u001b[31m174\u001b[0m\u001b[32m     \u001b[0m\u001b[32m \u001b[0m\u001b[31m┃\u001b[0m\n",
       "\u001b[31m┃\u001b[0m\u001b[36m \u001b[0m\u001b[1;36mActual Pos\u001b[0m\u001b[36m     \u001b[0m\u001b[36m \u001b[0m\u001b[31m┃\u001b[0m\u001b[31m \u001b[0m\u001b[31m     \u001b[0m\u001b[31m134\u001b[0m\u001b[31m     \u001b[0m\u001b[31m \u001b[0m\u001b[31m┃\u001b[0m\u001b[32m \u001b[0m\u001b[32m     \u001b[0m\u001b[1;32m382\u001b[0m\u001b[32m     \u001b[0m\u001b[32m \u001b[0m\u001b[31m┃\u001b[0m\n",
       "\u001b[31m┗━━━━━━━━━━━━━━━━━┻━━━━━━━━━━━━━━━┻━━━━━━━━━━━━━━━┛\u001b[0m\n"
      ]
     },
     "metadata": {},
     "output_type": "display_data"
    },
    {
     "data": {
      "text/html": [
       "<pre style=\"white-space:pre;overflow-x:auto;line-height:normal;font-family:Menlo,'DejaVu Sans Mono',consolas,'Courier New',monospace\"><span style=\"font-style: italic\">         </span><span style=\"color: #c0c0c0; text-decoration-color: #c0c0c0; font-weight: bold; font-style: italic\">📋 Summary Metrics for Your Report (trabalho.md)</span><span style=\"font-style: italic\">         </span>\n",
       "<span style=\"color: #008000; text-decoration-color: #008000\">╔══════════════════════╦═══════╦═════════════════════════════════╗</span>\n",
       "<span style=\"color: #008000; text-decoration-color: #008000\">║</span><span style=\"color: #008000; text-decoration-color: #008000; font-weight: bold\"> Metric               </span><span style=\"color: #008000; text-decoration-color: #008000\">║</span><span style=\"color: #008000; text-decoration-color: #008000; font-weight: bold\"> Value </span><span style=\"color: #008000; text-decoration-color: #008000\">║</span><span style=\"color: #008000; text-decoration-color: #008000; font-weight: bold\"> Interpretation                  </span><span style=\"color: #008000; text-decoration-color: #008000\">║</span>\n",
       "<span style=\"color: #008000; text-decoration-color: #008000\">╠══════════════════════╬═══════╬═════════════════════════════════╣</span>\n",
       "<span style=\"color: #008000; text-decoration-color: #008000\">║</span><span style=\"color: #008080; text-decoration-color: #008080; font-weight: bold\"> Accuracy             </span><span style=\"color: #008000; text-decoration-color: #008000\">║</span><span style=\"color: #808000; text-decoration-color: #808000; font-weight: bold\"> 0.803 </span><span style=\"color: #008000; text-decoration-color: #008000\">║</span><span style=\"color: #c0c0c0; text-decoration-color: #c0c0c0\"> Overall correctness             </span><span style=\"color: #008000; text-decoration-color: #008000\">║</span>\n",
       "<span style=\"color: #008000; text-decoration-color: #008000\">║</span><span style=\"color: #008080; text-decoration-color: #008080; font-weight: bold\"> Precision            </span><span style=\"color: #008000; text-decoration-color: #008000\">║</span><span style=\"color: #808000; text-decoration-color: #808000; font-weight: bold\"> 0.687 </span><span style=\"color: #008000; text-decoration-color: #008000\">║</span><span style=\"color: #c0c0c0; text-decoration-color: #c0c0c0\"> Positive prediction reliability </span><span style=\"color: #008000; text-decoration-color: #008000\">║</span>\n",
       "<span style=\"color: #008000; text-decoration-color: #008000\">║</span><span style=\"color: #008080; text-decoration-color: #008080; font-weight: bold\"> Recall               </span><span style=\"color: #008000; text-decoration-color: #008000\">║</span><span style=\"color: #808000; text-decoration-color: #808000; font-weight: bold\"> 0.740 </span><span style=\"color: #008000; text-decoration-color: #008000\">║</span><span style=\"color: #c0c0c0; text-decoration-color: #c0c0c0\"> Positive class detection rate   </span><span style=\"color: #008000; text-decoration-color: #008000\">║</span>\n",
       "<span style=\"color: #008000; text-decoration-color: #008000\">║</span><span style=\"color: #008080; text-decoration-color: #008080; font-weight: bold\"> F1-Score             </span><span style=\"color: #008000; text-decoration-color: #008000\">║</span><span style=\"color: #808000; text-decoration-color: #808000; font-weight: bold\"> 0.713 </span><span style=\"color: #008000; text-decoration-color: #008000\">║</span><span style=\"color: #c0c0c0; text-decoration-color: #c0c0c0\"> </span><span style=\"color: #c0c0c0; text-decoration-color: #c0c0c0; font-weight: bold\">Best metric for imbalanced data</span><span style=\"color: #c0c0c0; text-decoration-color: #c0c0c0\"> </span><span style=\"color: #008000; text-decoration-color: #008000\">║</span>\n",
       "<span style=\"color: #008000; text-decoration-color: #008000\">╚══════════════════════╩═══════╩═════════════════════════════════╝</span>\n",
       "</pre>\n"
      ],
      "text/plain": [
       "\u001b[3m         \u001b[0m\u001b[1;3;37m📋 Summary Metrics for Your Report (trabalho.md)\u001b[0m\u001b[3m         \u001b[0m\n",
       "\u001b[32m╔══════════════════════╦═══════╦═════════════════════════════════╗\u001b[0m\n",
       "\u001b[32m║\u001b[0m\u001b[1;32m \u001b[0m\u001b[1;32mMetric              \u001b[0m\u001b[1;32m \u001b[0m\u001b[32m║\u001b[0m\u001b[1;32m \u001b[0m\u001b[1;32mValue\u001b[0m\u001b[1;32m \u001b[0m\u001b[32m║\u001b[0m\u001b[1;32m \u001b[0m\u001b[1;32mInterpretation                 \u001b[0m\u001b[1;32m \u001b[0m\u001b[32m║\u001b[0m\n",
       "\u001b[32m╠══════════════════════╬═══════╬═════════════════════════════════╣\u001b[0m\n",
       "\u001b[32m║\u001b[0m\u001b[1;36m \u001b[0m\u001b[1;36mAccuracy            \u001b[0m\u001b[1;36m \u001b[0m\u001b[32m║\u001b[0m\u001b[1;33m \u001b[0m\u001b[1;33m0.803\u001b[0m\u001b[1;33m \u001b[0m\u001b[32m║\u001b[0m\u001b[37m \u001b[0m\u001b[37mOverall correctness            \u001b[0m\u001b[37m \u001b[0m\u001b[32m║\u001b[0m\n",
       "\u001b[32m║\u001b[0m\u001b[1;36m \u001b[0m\u001b[1;36mPrecision           \u001b[0m\u001b[1;36m \u001b[0m\u001b[32m║\u001b[0m\u001b[1;33m \u001b[0m\u001b[1;33m0.687\u001b[0m\u001b[1;33m \u001b[0m\u001b[32m║\u001b[0m\u001b[37m \u001b[0m\u001b[37mPositive prediction reliability\u001b[0m\u001b[37m \u001b[0m\u001b[32m║\u001b[0m\n",
       "\u001b[32m║\u001b[0m\u001b[1;36m \u001b[0m\u001b[1;36mRecall              \u001b[0m\u001b[1;36m \u001b[0m\u001b[32m║\u001b[0m\u001b[1;33m \u001b[0m\u001b[1;33m0.740\u001b[0m\u001b[1;33m \u001b[0m\u001b[32m║\u001b[0m\u001b[37m \u001b[0m\u001b[37mPositive class detection rate  \u001b[0m\u001b[37m \u001b[0m\u001b[32m║\u001b[0m\n",
       "\u001b[32m║\u001b[0m\u001b[1;36m \u001b[0m\u001b[1;36mF1-Score            \u001b[0m\u001b[1;36m \u001b[0m\u001b[32m║\u001b[0m\u001b[1;33m \u001b[0m\u001b[1;33m0.713\u001b[0m\u001b[1;33m \u001b[0m\u001b[32m║\u001b[0m\u001b[37m \u001b[0m\u001b[1;37mBest metric for imbalanced data\u001b[0m\u001b[37m \u001b[0m\u001b[32m║\u001b[0m\n",
       "\u001b[32m╚══════════════════════╩═══════╩═════════════════════════════════╝\u001b[0m\n"
      ]
     },
     "metadata": {},
     "output_type": "display_data"
    },
    {
     "data": {
      "text/html": [
       "<pre style=\"white-space:pre;overflow-x:auto;line-height:normal;font-family:Menlo,'DejaVu Sans Mono',consolas,'Courier New',monospace\"><span style=\"color: #008000; text-decoration-color: #008000\">╔══════════════════════════════════════════════ </span><span style=\"color: #c0c0c0; text-decoration-color: #c0c0c0; font-weight: bold\">Final Test Results</span><span style=\"color: #008000; text-decoration-color: #008000\"> ═══════════════════════════════════════════════╗</span>\n",
       "<span style=\"color: #008000; text-decoration-color: #008000\">║</span> <span style=\"color: #008000; text-decoration-color: #008000; font-weight: bold\">✅ Test Set Evaluation Complete!</span>                                                                                <span style=\"color: #008000; text-decoration-color: #008000\">║</span>\n",
       "<span style=\"color: #008000; text-decoration-color: #008000\">║</span>                                                                                                                 <span style=\"color: #008000; text-decoration-color: #008000\">║</span>\n",
       "<span style=\"color: #008000; text-decoration-color: #008000\">║</span> <span style=\"color: #008080; text-decoration-color: #008080; font-weight: bold\">Performance Summary:</span>                                                                                            <span style=\"color: #008000; text-decoration-color: #008000\">║</span>\n",
       "<span style=\"color: #008000; text-decoration-color: #008000\">║</span> ├─ Total Predictions: 1,560                                                                                     <span style=\"color: #008000; text-decoration-color: #008000\">║</span>\n",
       "<span style=\"color: #008000; text-decoration-color: #008000\">║</span> ├─ Correct: <span style=\"color: #008000; text-decoration-color: #008000\">1252</span> (80.3%)                                                                                        <span style=\"color: #008000; text-decoration-color: #008000\">║</span>\n",
       "<span style=\"color: #008000; text-decoration-color: #008000\">║</span> └─ Errors: <span style=\"color: #800000; text-decoration-color: #800000\">308</span> (19.7%)                                                                                          <span style=\"color: #008000; text-decoration-color: #008000\">║</span>\n",
       "<span style=\"color: #008000; text-decoration-color: #008000\">║</span>                                                                                                                 <span style=\"color: #008000; text-decoration-color: #008000\">║</span>\n",
       "<span style=\"color: #008000; text-decoration-color: #008000\">║</span> <span style=\"color: #808000; text-decoration-color: #808000; font-weight: bold\">Error Breakdown:</span>                                                                                                <span style=\"color: #008000; text-decoration-color: #008000\">║</span>\n",
       "<span style=\"color: #008000; text-decoration-color: #008000\">║</span> ├─ False Positives: 174 (negative classified as positive)                                                       <span style=\"color: #008000; text-decoration-color: #008000\">║</span>\n",
       "<span style=\"color: #008000; text-decoration-color: #008000\">║</span> └─ False Negatives: 134 (positive classified as negative)                                                       <span style=\"color: #008000; text-decoration-color: #008000\">║</span>\n",
       "<span style=\"color: #008000; text-decoration-color: #008000\">║</span>                                                                                                                 <span style=\"color: #008000; text-decoration-color: #008000\">║</span>\n",
       "<span style=\"color: #008000; text-decoration-color: #008000\">║</span> <span style=\"color: #c0c0c0; text-decoration-color: #c0c0c0; font-weight: bold\">🎯 Model is ready for deployment!</span>                                                                               <span style=\"color: #008000; text-decoration-color: #008000\">║</span>\n",
       "<span style=\"color: #008000; text-decoration-color: #008000\">║</span> Use these metrics in your trabalho.md report.                                                                   <span style=\"color: #008000; text-decoration-color: #008000\">║</span>\n",
       "<span style=\"color: #008000; text-decoration-color: #008000\">╚═════════════════════════════════════════════════════════════════════════════════════════════════════════════════╝</span>\n",
       "</pre>\n"
      ],
      "text/plain": [
       "\u001b[32m╔═\u001b[0m\u001b[32m═════════════════════════════════════════════\u001b[0m\u001b[32m \u001b[0m\u001b[1;37mFinal Test Results\u001b[0m\u001b[32m \u001b[0m\u001b[32m══════════════════════════════════════════════\u001b[0m\u001b[32m═╗\u001b[0m\n",
       "\u001b[32m║\u001b[0m \u001b[1;32m✅ Test Set Evaluation Complete!\u001b[0m                                                                                \u001b[32m║\u001b[0m\n",
       "\u001b[32m║\u001b[0m                                                                                                                 \u001b[32m║\u001b[0m\n",
       "\u001b[32m║\u001b[0m \u001b[1;36mPerformance Summary:\u001b[0m                                                                                            \u001b[32m║\u001b[0m\n",
       "\u001b[32m║\u001b[0m ├─ Total Predictions: 1,560                                                                                     \u001b[32m║\u001b[0m\n",
       "\u001b[32m║\u001b[0m ├─ Correct: \u001b[32m1252\u001b[0m (80.3%)                                                                                        \u001b[32m║\u001b[0m\n",
       "\u001b[32m║\u001b[0m └─ Errors: \u001b[31m308\u001b[0m (19.7%)                                                                                          \u001b[32m║\u001b[0m\n",
       "\u001b[32m║\u001b[0m                                                                                                                 \u001b[32m║\u001b[0m\n",
       "\u001b[32m║\u001b[0m \u001b[1;33mError Breakdown:\u001b[0m                                                                                                \u001b[32m║\u001b[0m\n",
       "\u001b[32m║\u001b[0m ├─ False Positives: 174 (negative classified as positive)                                                       \u001b[32m║\u001b[0m\n",
       "\u001b[32m║\u001b[0m └─ False Negatives: 134 (positive classified as negative)                                                       \u001b[32m║\u001b[0m\n",
       "\u001b[32m║\u001b[0m                                                                                                                 \u001b[32m║\u001b[0m\n",
       "\u001b[32m║\u001b[0m \u001b[1;37m🎯 Model is ready for deployment!\u001b[0m                                                                               \u001b[32m║\u001b[0m\n",
       "\u001b[32m║\u001b[0m Use these metrics in your trabalho.md report.                                                                   \u001b[32m║\u001b[0m\n",
       "\u001b[32m╚═════════════════════════════════════════════════════════════════════════════════════════════════════════════════╝\u001b[0m\n"
      ]
     },
     "metadata": {},
     "output_type": "display_data"
    }
   ],
   "source": [
    "console.rule(\"[bold red]🏆 Final Test Set Evaluation[/bold red]\")\n",
    "\n",
    "# Make predictions on test set\n",
    "y_test_pred = clf_lr.predict(X_test)\n",
    "\n",
    "# Get classification report as dict\n",
    "report_dict_test = classification_report(\n",
    "    y_test, \n",
    "    y_test_pred, \n",
    "    target_names=['Negative (0)', 'Positive (1)'],\n",
    "    output_dict=True\n",
    ")\n",
    "\n",
    "# Create metrics table for test set\n",
    "test_metrics_table = Table(\n",
    "    title=\"[bold white]📊 Final Test Set Metrics (Report for trabalho.md)[/bold white]\",\n",
    "    show_header=True,\n",
    "    header_style=\"bold magenta\",\n",
    "    border_style=\"red\",\n",
    "    box=box.DOUBLE_EDGE\n",
    ")\n",
    "\n",
    "test_metrics_table.add_column(\"Class\", style=\"cyan\", width=15)\n",
    "test_metrics_table.add_column(\"Precision\", justify=\"right\", style=\"yellow\")\n",
    "test_metrics_table.add_column(\"Recall\", justify=\"right\", style=\"green\")\n",
    "test_metrics_table.add_column(\"F1-Score\", justify=\"right\", style=\"blue\")\n",
    "test_metrics_table.add_column(\"Support\", justify=\"right\", style=\"white\")\n",
    "\n",
    "# Add rows for each class\n",
    "for class_name in ['Negative (0)', 'Positive (1)']:\n",
    "    metrics = report_dict_test[class_name]\n",
    "    test_metrics_table.add_row(\n",
    "        class_name,\n",
    "        f\"{metrics['precision']:.3f}\",\n",
    "        f\"{metrics['recall']:.3f}\",\n",
    "        f\"{metrics['f1-score']:.3f}\",\n",
    "        f\"{int(metrics['support'])}\"\n",
    "    )\n",
    "\n",
    "# Add separator\n",
    "test_metrics_table.add_section()\n",
    "\n",
    "# Add overall metrics\n",
    "accuracy_test = report_dict_test['accuracy']\n",
    "test_metrics_table.add_row(\n",
    "    \"[bold]Accuracy[/bold]\",\n",
    "    \"\",\n",
    "    \"\",\n",
    "    f\"[bold]{accuracy_test:.3f}[/bold]\",\n",
    "    f\"{int(report_dict_test['macro avg']['support'])}\"\n",
    ")\n",
    "\n",
    "console.print(test_metrics_table)\n",
    "\n",
    "# Confusion matrix for test set\n",
    "cm_test = confusion_matrix(y_test, y_test_pred)\n",
    "\n",
    "cm_test_table = Table(\n",
    "    title=\"[bold white]Confusion Matrix (Test Set)[/bold white]\",\n",
    "    show_header=True,\n",
    "    header_style=\"bold magenta\",\n",
    "    border_style=\"red\",\n",
    "    box=box.HEAVY\n",
    ")\n",
    "\n",
    "cm_test_table.add_column(\"\", style=\"cyan\", width=15)\n",
    "cm_test_table.add_column(\"Predicted Neg\", justify=\"center\", style=\"red\")\n",
    "cm_test_table.add_column(\"Predicted Pos\", justify=\"center\", style=\"green\")\n",
    "\n",
    "cm_test_table.add_row(\n",
    "    \"[bold]Actual Neg[/bold]\",\n",
    "    f\"[bold green]{cm_test[0,0]}[/bold green]\",\n",
    "    f\"[red]{cm_test[0,1]}[/red]\"\n",
    ")\n",
    "cm_test_table.add_row(\n",
    "    \"[bold]Actual Pos[/bold]\",\n",
    "    f\"[red]{cm_test[1,0]}[/red]\",\n",
    "    f\"[bold green]{cm_test[1,1]}[/bold green]\"\n",
    ")\n",
    "\n",
    "console.print(cm_test_table)\n",
    "\n",
    "# Calculate all required metrics\n",
    "from sklearn.metrics import accuracy_score, precision_score, recall_score\n",
    "\n",
    "accuracy = accuracy_score(y_test, y_test_pred)\n",
    "precision = precision_score(y_test, y_test_pred)\n",
    "recall = recall_score(y_test, y_test_pred)\n",
    "f1 = f1_score(y_test, y_test_pred)\n",
    "\n",
    "# Create summary table for report\n",
    "report_table = Table(\n",
    "    title=\"[bold white]📋 Summary Metrics for Your Report (trabalho.md)[/bold white]\",\n",
    "    show_header=True,\n",
    "    header_style=\"bold green\",\n",
    "    border_style=\"green\",\n",
    "    box=box.DOUBLE\n",
    ")\n",
    "\n",
    "report_table.add_column(\"Metric\", style=\"bold cyan\", width=20)\n",
    "report_table.add_column(\"Value\", justify=\"right\", style=\"bold yellow\")\n",
    "report_table.add_column(\"Interpretation\", style=\"white\")\n",
    "\n",
    "report_table.add_row(\n",
    "    \"Accuracy\",\n",
    "    f\"{accuracy:.3f}\",\n",
    "    \"Overall correctness\"\n",
    ")\n",
    "report_table.add_row(\n",
    "    \"Precision\",\n",
    "    f\"{precision:.3f}\",\n",
    "    \"Positive prediction reliability\"\n",
    ")\n",
    "report_table.add_row(\n",
    "    \"Recall\",\n",
    "    f\"{recall:.3f}\",\n",
    "    \"Positive class detection rate\"\n",
    ")\n",
    "report_table.add_row(\n",
    "    \"F1-Score\",\n",
    "    f\"[bold]{f1:.3f}[/bold]\",\n",
    "    \"[bold]Best metric for imbalanced data[/bold]\"\n",
    ")\n",
    "\n",
    "console.print(report_table)\n",
    "\n",
    "# Final summary panel\n",
    "correct_test = cm_test[0,0] + cm_test[1,1]\n",
    "total_test = len(y_test)\n",
    "\n",
    "final_summary = f\"\"\"\n",
    "[bold green]✅ Test Set Evaluation Complete![/bold green]\n",
    "\n",
    "[bold cyan]Performance Summary:[/bold cyan]\n",
    "├─ Total Predictions: {total_test:,}\n",
    "├─ Correct: [green]{correct_test}[/green] ({(correct_test/total_test)*100:.1f}%)\n",
    "└─ Errors: [red]{total_test - correct_test}[/red] ({((total_test - correct_test)/total_test)*100:.1f}%)\n",
    "\n",
    "[bold yellow]Error Breakdown:[/bold yellow]\n",
    "├─ False Positives: {cm_test[0,1]} (negative classified as positive)\n",
    "└─ False Negatives: {cm_test[1,0]} (positive classified as negative)\n",
    "\n",
    "[bold white]🎯 Model is ready for deployment![/bold white]\n",
    "Use these metrics in your trabalho.md report.\n",
    "\"\"\"\n",
    "\n",
    "console.print(Panel(\n",
    "    final_summary.strip(),\n",
    "    title=\"[bold white]Final Test Results[/bold white]\",\n",
    "    border_style=\"green\",\n",
    "    box=box.DOUBLE_EDGE\n",
    "))"
   ]
  },
  {
   "cell_type": "code",
   "execution_count": 47,
   "id": "fd1c9283",
   "metadata": {},
   "outputs": [
    {
     "data": {
      "image/png": "[encoded data removed]",
      "text/plain": [
       "<Figure size 800x600 with 2 Axes>"
      ]
     },
     "metadata": {},
     "output_type": "display_data"
    },
    {
     "name": "stdout",
     "output_type": "stream",
     "text": [
      "✅ Total correct predictions: 1252 / 1560\n",
      "❌ Total wrong predictions: 308 / 1560\n"
     ]
    }
   ],
   "source": [
    "import matplotlib.pyplot as plt\n",
    "import seaborn as sns\n",
    "\n",
    "# Plot confusion matrix\n",
    "plt.figure(figsize=(8, 6))\n",
    "sns.heatmap(\n",
    "    cm_test, \n",
    "    annot=True, \n",
    "    fmt='d', \n",
    "    cmap='Blues',\n",
    "    xticklabels=['Negative (0)', 'Positive (1)'],\n",
    "    yticklabels=['Negative (0)', 'Positive (1)']\n",
    ")\n",
    "plt.title('Confusion Matrix - Logistic Regression (Test Set)')\n",
    "plt.ylabel('True Label')\n",
    "plt.xlabel('Predicted Label')\n",
    "plt.tight_layout()\n",
    "plt.show()\n",
    "\n",
    "print(f\"✅ Total correct predictions: {cm_test[0,0] + cm_test[1,1]} / {len(y_test)}\")\n",
    "print(f\"❌ Total wrong predictions: {cm_test[0,1] + cm_test[1,0]} / {len(y_test)}\")"
   ]
  },
  {
   "cell_type": "code",
   "execution_count": 48,
   "id": "f249beb8",
   "metadata": {},
   "outputs": [
    {
     "data": {
      "text/html": [
       "<pre style=\"white-space:pre;overflow-x:auto;line-height:normal;font-family:Menlo,'DejaVu Sans Mono',consolas,'Courier New',monospace\"><span style=\"color: #00ff00; text-decoration-color: #00ff00\">────────────────────────────────────────── </span><span style=\"color: #008080; text-decoration-color: #008080; font-weight: bold\">🧪 Testing Text Vectorization</span><span style=\"color: #00ff00; text-decoration-color: #00ff00\"> ──────────────────────────────────────────</span>\n",
       "</pre>\n"
      ],
      "text/plain": [
       "\u001b[92m────────────────────────────────────────── \u001b[0m\u001b[1;36m🧪 Testing Text Vectorization\u001b[0m\u001b[92m ──────────────────────────────────────────\u001b[0m\n"
      ]
     },
     "metadata": {},
     "output_type": "display_data"
    },
    {
     "data": {
      "text/html": [
       "<pre style=\"white-space:pre;overflow-x:auto;line-height:normal;font-family:Menlo,'DejaVu Sans Mono',consolas,'Courier New',monospace\"><span style=\"color: #008080; text-decoration-color: #008080\">╭────────────────────────────────────────────────── </span><span style=\"color: #008080; text-decoration-color: #008080; font-weight: bold\">Sample Text</span><span style=\"color: #008080; text-decoration-color: #008080\"> ──────────────────────────────────────────────────╮</span>\n",
       "<span style=\"color: #008080; text-decoration-color: #008080\">│</span> <span style=\"color: #c0c0c0; text-decoration-color: #c0c0c0; font-weight: bold\">Converting text to vector:</span>                                                                                      <span style=\"color: #008080; text-decoration-color: #008080\">│</span>\n",
       "<span style=\"color: #008080; text-decoration-color: #008080\">│</span>                                                                                                                 <span style=\"color: #008080; text-decoration-color: #008080\">│</span>\n",
       "<span style=\"color: #008080; text-decoration-color: #008080\">│</span> <span style=\"color: #808000; text-decoration-color: #808000\">'Este servico e pessimo e horrivel!'</span>                                                                            <span style=\"color: #008080; text-decoration-color: #008080\">│</span>\n",
       "<span style=\"color: #008080; text-decoration-color: #008080\">╰─────────────────────────────────────────────────────────────────────────────────────────────────────────────────╯</span>\n",
       "</pre>\n"
      ],
      "text/plain": [
       "\u001b[36m╭─\u001b[0m\u001b[36m─────────────────────────────────────────────────\u001b[0m\u001b[36m \u001b[0m\u001b[1;36mSample Text\u001b[0m\u001b[36m \u001b[0m\u001b[36m─────────────────────────────────────────────────\u001b[0m\u001b[36m─╮\u001b[0m\n",
       "\u001b[36m│\u001b[0m \u001b[1;37mConverting text to vector:\u001b[0m                                                                                      \u001b[36m│\u001b[0m\n",
       "\u001b[36m│\u001b[0m                                                                                                                 \u001b[36m│\u001b[0m\n",
       "\u001b[36m│\u001b[0m \u001b[33m'Este servico e pessimo e horrivel!'\u001b[0m                                                                            \u001b[36m│\u001b[0m\n",
       "\u001b[36m╰─────────────────────────────────────────────────────────────────────────────────────────────────────────────────╯\u001b[0m\n"
      ]
     },
     "metadata": {},
     "output_type": "display_data"
    },
    {
     "data": {
      "text/html": [
       "<pre style=\"white-space:pre;overflow-x:auto;line-height:normal;font-family:Menlo,'DejaVu Sans Mono',consolas,'Courier New',monospace\"><span style=\"color: #008000; text-decoration-color: #008000\">✅ Vectorized:</span> <span style=\"color: #008080; text-decoration-color: #008080; font-weight: bold\">4</span>/<span style=\"color: #008080; text-decoration-color: #008080; font-weight: bold\">6</span> words recognized\n",
       "</pre>\n"
      ],
      "text/plain": [
       "\u001b[32m✅ Vectorized:\u001b[0m \u001b[1;36m4\u001b[0m/\u001b[1;36m6\u001b[0m words recognized\n"
      ]
     },
     "metadata": {},
     "output_type": "display_data"
    },
    {
     "data": {
      "text/html": [
       "<pre style=\"white-space:pre;overflow-x:auto;line-height:normal;font-family:Menlo,'DejaVu Sans Mono',consolas,'Courier New',monospace\">   <span style=\"color: #7f7f7f; text-decoration-color: #7f7f7f\">Recognized: </span><span style=\"color: #7f7f7f; text-decoration-color: #7f7f7f; font-weight: bold\">[</span><span style=\"color: #7fbf7f; text-decoration-color: #7fbf7f\">'ESTE'</span><span style=\"color: #7f7f7f; text-decoration-color: #7f7f7f\">, </span><span style=\"color: #7fbf7f; text-decoration-color: #7fbf7f\">'SERVICO'</span><span style=\"color: #7f7f7f; text-decoration-color: #7f7f7f\">, </span><span style=\"color: #7fbf7f; text-decoration-color: #7fbf7f\">'PESSIMO'</span><span style=\"color: #7f7f7f; text-decoration-color: #7f7f7f\">, </span><span style=\"color: #7fbf7f; text-decoration-color: #7fbf7f\">'HORRIVEL'</span><span style=\"color: #7f7f7f; text-decoration-color: #7f7f7f; font-weight: bold\">]</span><span style=\"color: #bfbf7f; text-decoration-color: #bfbf7f\">...</span>\n",
       "</pre>\n"
      ],
      "text/plain": [
       "   \u001b[2mRecognized: \u001b[0m\u001b[1;2m[\u001b[0m\u001b[2;32m'ESTE'\u001b[0m\u001b[2m, \u001b[0m\u001b[2;32m'SERVICO'\u001b[0m\u001b[2m, \u001b[0m\u001b[2;32m'PESSIMO'\u001b[0m\u001b[2m, \u001b[0m\u001b[2;32m'HORRIVEL'\u001b[0m\u001b[1;2m]\u001b[0m\u001b[2;33m...\u001b[0m\n"
      ]
     },
     "metadata": {},
     "output_type": "display_data"
    },
    {
     "data": {
      "text/html": [
       "<pre style=\"white-space:pre;overflow-x:auto;line-height:normal;font-family:Menlo,'DejaVu Sans Mono',consolas,'Courier New',monospace\"><span style=\"font-style: italic\">                                </span><span style=\"color: #c0c0c0; text-decoration-color: #c0c0c0; font-weight: bold; font-style: italic\">Vector Information</span><span style=\"font-style: italic\">                                </span>\n",
       "<span style=\"color: #008000; text-decoration-color: #008000\">╭────────────────┬───────────────────────────────────────────────────────────────╮</span>\n",
       "<span style=\"color: #008000; text-decoration-color: #008000\">│</span><span style=\"color: #800080; text-decoration-color: #800080; font-weight: bold\"> Property       </span><span style=\"color: #008000; text-decoration-color: #008000\">│</span><span style=\"color: #800080; text-decoration-color: #800080; font-weight: bold\"> Value                                                         </span><span style=\"color: #008000; text-decoration-color: #008000\">│</span>\n",
       "<span style=\"color: #008000; text-decoration-color: #008000\">├────────────────┼───────────────────────────────────────────────────────────────┤</span>\n",
       "<span style=\"color: #008000; text-decoration-color: #008000\">│</span><span style=\"color: #008080; text-decoration-color: #008080\"> Shape          </span><span style=\"color: #008000; text-decoration-color: #008000\">│</span><span style=\"color: #808000; text-decoration-color: #808000\"> (100,)                                                        </span><span style=\"color: #008000; text-decoration-color: #008000\">│</span>\n",
       "<span style=\"color: #008000; text-decoration-color: #008000\">│</span><span style=\"color: #008080; text-decoration-color: #008080\"> Dimensions     </span><span style=\"color: #008000; text-decoration-color: #008000\">│</span><span style=\"color: #808000; text-decoration-color: #808000\"> 100                                                           </span><span style=\"color: #008000; text-decoration-color: #008000\">│</span>\n",
       "<span style=\"color: #008000; text-decoration-color: #008000\">│</span><span style=\"color: #008080; text-decoration-color: #008080\"> Data Type      </span><span style=\"color: #008000; text-decoration-color: #008000\">│</span><span style=\"color: #808000; text-decoration-color: #808000\"> float32                                                       </span><span style=\"color: #008000; text-decoration-color: #008000\">│</span>\n",
       "<span style=\"color: #008000; text-decoration-color: #008000\">│</span><span style=\"color: #008080; text-decoration-color: #008080\"> First 5 values </span><span style=\"color: #008000; text-decoration-color: #008000\">│</span><span style=\"color: #808000; text-decoration-color: #808000\"> [-1.1156716   0.07335789 -0.00568281  0.0132819  -0.0356288 ] </span><span style=\"color: #008000; text-decoration-color: #008000\">│</span>\n",
       "<span style=\"color: #008000; text-decoration-color: #008000\">│</span><span style=\"color: #008080; text-decoration-color: #008080\"> Mean           </span><span style=\"color: #008000; text-decoration-color: #008000\">│</span><span style=\"color: #808000; text-decoration-color: #808000\"> -0.0091                                                       </span><span style=\"color: #008000; text-decoration-color: #008000\">│</span>\n",
       "<span style=\"color: #008000; text-decoration-color: #008000\">│</span><span style=\"color: #008080; text-decoration-color: #008080\"> Std Dev        </span><span style=\"color: #008000; text-decoration-color: #008000\">│</span><span style=\"color: #808000; text-decoration-color: #808000\"> 0.1124                                                        </span><span style=\"color: #008000; text-decoration-color: #008000\">│</span>\n",
       "<span style=\"color: #008000; text-decoration-color: #008000\">╰────────────────┴───────────────────────────────────────────────────────────────╯</span>\n",
       "</pre>\n"
      ],
      "text/plain": [
       "\u001b[3m                                \u001b[0m\u001b[1;3;37mVector Information\u001b[0m\u001b[3m                                \u001b[0m\n",
       "\u001b[32m╭────────────────┬───────────────────────────────────────────────────────────────╮\u001b[0m\n",
       "\u001b[32m│\u001b[0m\u001b[1;35m \u001b[0m\u001b[1;35mProperty      \u001b[0m\u001b[1;35m \u001b[0m\u001b[32m│\u001b[0m\u001b[1;35m \u001b[0m\u001b[1;35mValue                                                        \u001b[0m\u001b[1;35m \u001b[0m\u001b[32m│\u001b[0m\n",
       "\u001b[32m├────────────────┼───────────────────────────────────────────────────────────────┤\u001b[0m\n",
       "\u001b[32m│\u001b[0m\u001b[36m \u001b[0m\u001b[36mShape         \u001b[0m\u001b[36m \u001b[0m\u001b[32m│\u001b[0m\u001b[33m \u001b[0m\u001b[33m(100,)                                                       \u001b[0m\u001b[33m \u001b[0m\u001b[32m│\u001b[0m\n",
       "\u001b[32m│\u001b[0m\u001b[36m \u001b[0m\u001b[36mDimensions    \u001b[0m\u001b[36m \u001b[0m\u001b[32m│\u001b[0m\u001b[33m \u001b[0m\u001b[33m100                                                          \u001b[0m\u001b[33m \u001b[0m\u001b[32m│\u001b[0m\n",
       "\u001b[32m│\u001b[0m\u001b[36m \u001b[0m\u001b[36mData Type     \u001b[0m\u001b[36m \u001b[0m\u001b[32m│\u001b[0m\u001b[33m \u001b[0m\u001b[33mfloat32                                                      \u001b[0m\u001b[33m \u001b[0m\u001b[32m│\u001b[0m\n",
       "\u001b[32m│\u001b[0m\u001b[36m \u001b[0m\u001b[36mFirst 5 values\u001b[0m\u001b[36m \u001b[0m\u001b[32m│\u001b[0m\u001b[33m \u001b[0m\u001b[33m[-1.1156716   0.07335789 -0.00568281  0.0132819  -0.0356288 ]\u001b[0m\u001b[33m \u001b[0m\u001b[32m│\u001b[0m\n",
       "\u001b[32m│\u001b[0m\u001b[36m \u001b[0m\u001b[36mMean          \u001b[0m\u001b[36m \u001b[0m\u001b[32m│\u001b[0m\u001b[33m \u001b[0m\u001b[33m-0.0091                                                      \u001b[0m\u001b[33m \u001b[0m\u001b[32m│\u001b[0m\n",
       "\u001b[32m│\u001b[0m\u001b[36m \u001b[0m\u001b[36mStd Dev       \u001b[0m\u001b[36m \u001b[0m\u001b[32m│\u001b[0m\u001b[33m \u001b[0m\u001b[33m0.1124                                                       \u001b[0m\u001b[33m \u001b[0m\u001b[32m│\u001b[0m\n",
       "\u001b[32m╰────────────────┴───────────────────────────────────────────────────────────────╯\u001b[0m\n"
      ]
     },
     "metadata": {},
     "output_type": "display_data"
    }
   ],
   "source": [
    "import re\n",
    "from typing import Optional\n",
    "from unidecode import unidecode\n",
    "\n",
    "\n",
    "def text_to_vector(\n",
    "    text: str,\n",
    "    vocabulary: list[str],\n",
    "    word_embeddings: NDArray[np.float32]\n",
    ") -> Optional[NDArray[np.float32]]:\n",
    "    \"\"\"\n",
    "    Convert raw text into a 100-dimensional vector (same format as training data).\n",
    "    \n",
    "    Algorithm (matches trabalho.md specification):\n",
    "    1. Clean text: lowercase + remove punctuation\n",
    "    2. Tokenize into words\n",
    "    3. Look up each word in vocabulary\n",
    "    4. Average the corresponding word vectors\n",
    "    5. Return None if no words are recognized\n",
    "    \n",
    "    Args:\n",
    "        text: Raw input text (e.g., \"Este filme é incrível!\")\n",
    "        vocabulary: List of 9,538 known words\n",
    "        word_embeddings: Array of word vectors (9,538 × 100)\n",
    "        \n",
    "    Returns:\n",
    "        100-dimensional vector or None if no words found in vocabulary\n",
    "    \"\"\"\n",
    "    # Step 1: Normalize text (same preprocessing as training data)\n",
    "    cleaned_text = unidecode(text.upper())  # Vocabulary is uppercase (check PALAVRASpc.txt)\n",
    "    cleaned_text = re.sub(r'[^\\w\\s]', '', cleaned_text)  # Remove punctuation\n",
    "    words = cleaned_text.split()\n",
    "\n",
    "    # Step 2: Create word → index mapping for O(1) lookup\n",
    "    word_to_idx = {word: idx for idx, word in enumerate(vocabulary)}\n",
    "\n",
    "    # Step 3: Collect vectors for recognized words\n",
    "    found_vectors = []\n",
    "    recognized_words = []\n",
    "\n",
    "    for word in words:\n",
    "        if word in word_to_idx:\n",
    "            idx = word_to_idx[word]\n",
    "            found_vectors.append(word_embeddings[idx])\n",
    "            recognized_words.append(word)\n",
    "\n",
    "    # Step 4: Average vectors (per trabalho.md specification)\n",
    "    if not found_vectors:\n",
    "        console.print(f\"[bold red]⚠️  WARNING:[/bold red] No words from '[yellow]{text}[/yellow]' found in vocabulary!\")\n",
    "        console.print(f\"    [dim]Tried: {words[:5]}...[/dim]\")\n",
    "        return None\n",
    "\n",
    "    text_vector = np.mean(found_vectors, axis=0).astype(np.float32)\n",
    "\n",
    "    console.print(f\"[green]✅ Vectorized:[/green] {len(found_vectors)}/{len(words)} words recognized\")\n",
    "    console.print(f\"   [dim]Recognized: {recognized_words[:5]}...[/dim]\")\n",
    "    return text_vector\n",
    "\n",
    "\n",
    "console.rule(\"[bold cyan]🧪 Testing Text Vectorization[/bold cyan]\")\n",
    "\n",
    "# Test with a sample comment\n",
    "sample_text = \"Este serviço é péssimo e horrível!\"\n",
    "sample_text = unidecode(sample_text)\n",
    "\n",
    "console.print(Panel(\n",
    "    f\"[bold white]Converting text to vector:[/bold white]\\n\\n\"\n",
    "    f\"[yellow]'{sample_text}'[/yellow]\",\n",
    "    title=\"[bold cyan]Sample Text[/bold cyan]\",\n",
    "    border_style=\"cyan\"\n",
    "))\n",
    "\n",
    "sample_vector = text_to_vector(sample_text, vocabulary, word_embeddings)\n",
    "\n",
    "if sample_vector is not None:\n",
    "    # Show vector details in a table\n",
    "    vector_table = Table(\n",
    "        title=\"[bold white]Vector Information[/bold white]\",\n",
    "        show_header=True,\n",
    "        header_style=\"bold magenta\",\n",
    "        border_style=\"green\",\n",
    "        box=box.ROUNDED\n",
    "    )\n",
    "    \n",
    "    vector_table.add_column(\"Property\", style=\"cyan\")\n",
    "    vector_table.add_column(\"Value\", style=\"yellow\")\n",
    "    \n",
    "    vector_table.add_row(\"Shape\", f\"{sample_vector.shape}\")\n",
    "    vector_table.add_row(\"Dimensions\", f\"{sample_vector.shape[0]}\")\n",
    "    vector_table.add_row(\"Data Type\", f\"{sample_vector.dtype}\")\n",
    "    vector_table.add_row(\"First 5 values\", f\"{sample_vector[:5]}\")\n",
    "    vector_table.add_row(\"Mean\", f\"{np.mean(sample_vector):.4f}\")\n",
    "    vector_table.add_row(\"Std Dev\", f\"{np.std(sample_vector):.4f}\")\n",
    "    \n",
    "    console.print(vector_table)"
   ]
  },
  {
   "cell_type": "markdown",
   "id": "0f999b2a",
   "metadata": {},
   "source": [
    "---\n",
    "## 🔤 Text Vectorization\n",
    "\n",
    "Before classifying new comments, we need to convert raw text into the same 100-dimensional vectors used during training.\n",
    "\n",
    "**Process:**\n",
    "1. Clean text (remove accents, convert to uppercase, remove punctuation)\n",
    "2. Split into words\n",
    "3. Look up each word in the vocabulary\n",
    "4. Average the word vectors\n",
    "5. Return the resulting 100-dimensional vector\n",
    "\n",
    "This matches the algorithm described in `trabalho.md`.\n",
    "---\n"
   ]
  },
  {
   "cell_type": "code",
   "execution_count": 49,
   "id": "65a406a0",
   "metadata": {},
   "outputs": [
    {
     "data": {
      "text/html": [
       "<pre style=\"white-space:pre;overflow-x:auto;line-height:normal;font-family:Menlo,'DejaVu Sans Mono',consolas,'Courier New',monospace\"><span style=\"color: #00ff00; text-decoration-color: #00ff00\">──────────────────────────────────── </span><span style=\"color: #808000; text-decoration-color: #808000; font-weight: bold\">🧪 Testing Custom Comments Classification</span><span style=\"color: #00ff00; text-decoration-color: #00ff00\"> ────────────────────────────────────</span>\n",
       "</pre>\n"
      ],
      "text/plain": [
       "\u001b[92m──────────────────────────────────── \u001b[0m\u001b[1;33m🧪 Testing Custom Comments Classification\u001b[0m\u001b[92m ────────────────────────────────────\u001b[0m\n"
      ]
     },
     "metadata": {},
     "output_type": "display_data"
    },
    {
     "data": {
      "text/html": [
       "<pre style=\"white-space:pre;overflow-x:auto;line-height:normal;font-family:Menlo,'DejaVu Sans Mono',consolas,'Courier New',monospace\">\n",
       "<span style=\"color: #008080; text-decoration-color: #008080; font-weight: bold\">Processing:</span> <span style=\"color: #7fbf7f; text-decoration-color: #7fbf7f\">\"Serviço péssimo, muito ruim!\"</span>\n",
       "</pre>\n"
      ],
      "text/plain": [
       "\n",
       "\u001b[1;36mProcessing:\u001b[0m \u001b[2;32m\"Serviço péssimo, muito ruim!\"\u001b[0m\n"
      ]
     },
     "metadata": {},
     "output_type": "display_data"
    },
    {
     "data": {
      "text/html": [
       "<pre style=\"white-space:pre;overflow-x:auto;line-height:normal;font-family:Menlo,'DejaVu Sans Mono',consolas,'Courier New',monospace\"><span style=\"color: #008000; text-decoration-color: #008000\">✅ Vectorized:</span> <span style=\"color: #008080; text-decoration-color: #008080; font-weight: bold\">4</span>/<span style=\"color: #008080; text-decoration-color: #008080; font-weight: bold\">4</span> words recognized\n",
       "</pre>\n"
      ],
      "text/plain": [
       "\u001b[32m✅ Vectorized:\u001b[0m \u001b[1;36m4\u001b[0m/\u001b[1;36m4\u001b[0m words recognized\n"
      ]
     },
     "metadata": {},
     "output_type": "display_data"
    },
    {
     "data": {
      "text/html": [
       "<pre style=\"white-space:pre;overflow-x:auto;line-height:normal;font-family:Menlo,'DejaVu Sans Mono',consolas,'Courier New',monospace\">   <span style=\"color: #7f7f7f; text-decoration-color: #7f7f7f\">Recognized: </span><span style=\"color: #7f7f7f; text-decoration-color: #7f7f7f; font-weight: bold\">[</span><span style=\"color: #7fbf7f; text-decoration-color: #7fbf7f\">'SERVICO'</span><span style=\"color: #7f7f7f; text-decoration-color: #7f7f7f\">, </span><span style=\"color: #7fbf7f; text-decoration-color: #7fbf7f\">'PESSIMO'</span><span style=\"color: #7f7f7f; text-decoration-color: #7f7f7f\">, </span><span style=\"color: #7fbf7f; text-decoration-color: #7fbf7f\">'MUITO'</span><span style=\"color: #7f7f7f; text-decoration-color: #7f7f7f\">, </span><span style=\"color: #7fbf7f; text-decoration-color: #7fbf7f\">'RUIM'</span><span style=\"color: #7f7f7f; text-decoration-color: #7f7f7f; font-weight: bold\">]</span><span style=\"color: #bfbf7f; text-decoration-color: #bfbf7f\">...</span>\n",
       "</pre>\n"
      ],
      "text/plain": [
       "   \u001b[2mRecognized: \u001b[0m\u001b[1;2m[\u001b[0m\u001b[2;32m'SERVICO'\u001b[0m\u001b[2m, \u001b[0m\u001b[2;32m'PESSIMO'\u001b[0m\u001b[2m, \u001b[0m\u001b[2;32m'MUITO'\u001b[0m\u001b[2m, \u001b[0m\u001b[2;32m'RUIM'\u001b[0m\u001b[1;2m]\u001b[0m\u001b[2;33m...\u001b[0m\n"
      ]
     },
     "metadata": {},
     "output_type": "display_data"
    },
    {
     "data": {
      "text/html": [
       "<pre style=\"white-space:pre;overflow-x:auto;line-height:normal;font-family:Menlo,'DejaVu Sans Mono',consolas,'Courier New',monospace\">\n",
       "<span style=\"color: #008080; text-decoration-color: #008080; font-weight: bold\">Processing:</span> <span style=\"color: #7fbf7f; text-decoration-color: #7fbf7f\">\"Excelente atendimento, muito bom!\"</span>\n",
       "</pre>\n"
      ],
      "text/plain": [
       "\n",
       "\u001b[1;36mProcessing:\u001b[0m \u001b[2;32m\"Excelente atendimento, muito bom!\"\u001b[0m\n"
      ]
     },
     "metadata": {},
     "output_type": "display_data"
    },
    {
     "data": {
      "text/html": [
       "<pre style=\"white-space:pre;overflow-x:auto;line-height:normal;font-family:Menlo,'DejaVu Sans Mono',consolas,'Courier New',monospace\"><span style=\"color: #008000; text-decoration-color: #008000\">✅ Vectorized:</span> <span style=\"color: #008080; text-decoration-color: #008080; font-weight: bold\">4</span>/<span style=\"color: #008080; text-decoration-color: #008080; font-weight: bold\">4</span> words recognized\n",
       "</pre>\n"
      ],
      "text/plain": [
       "\u001b[32m✅ Vectorized:\u001b[0m \u001b[1;36m4\u001b[0m/\u001b[1;36m4\u001b[0m words recognized\n"
      ]
     },
     "metadata": {},
     "output_type": "display_data"
    },
    {
     "data": {
      "text/html": [
       "<pre style=\"white-space:pre;overflow-x:auto;line-height:normal;font-family:Menlo,'DejaVu Sans Mono',consolas,'Courier New',monospace\">   <span style=\"color: #7f7f7f; text-decoration-color: #7f7f7f\">Recognized: </span><span style=\"color: #7f7f7f; text-decoration-color: #7f7f7f; font-weight: bold\">[</span><span style=\"color: #7fbf7f; text-decoration-color: #7fbf7f\">'EXCELENTE'</span><span style=\"color: #7f7f7f; text-decoration-color: #7f7f7f\">, </span><span style=\"color: #7fbf7f; text-decoration-color: #7fbf7f\">'ATENDIMENTO'</span><span style=\"color: #7f7f7f; text-decoration-color: #7f7f7f\">, </span><span style=\"color: #7fbf7f; text-decoration-color: #7fbf7f\">'MUITO'</span><span style=\"color: #7f7f7f; text-decoration-color: #7f7f7f\">, </span><span style=\"color: #7fbf7f; text-decoration-color: #7fbf7f\">'BOM'</span><span style=\"color: #7f7f7f; text-decoration-color: #7f7f7f; font-weight: bold\">]</span><span style=\"color: #bfbf7f; text-decoration-color: #bfbf7f\">...</span>\n",
       "</pre>\n"
      ],
      "text/plain": [
       "   \u001b[2mRecognized: \u001b[0m\u001b[1;2m[\u001b[0m\u001b[2;32m'EXCELENTE'\u001b[0m\u001b[2m, \u001b[0m\u001b[2;32m'ATENDIMENTO'\u001b[0m\u001b[2m, \u001b[0m\u001b[2;32m'MUITO'\u001b[0m\u001b[2m, \u001b[0m\u001b[2;32m'BOM'\u001b[0m\u001b[1;2m]\u001b[0m\u001b[2;33m...\u001b[0m\n"
      ]
     },
     "metadata": {},
     "output_type": "display_data"
    },
    {
     "data": {
      "text/html": [
       "<pre style=\"white-space:pre;overflow-x:auto;line-height:normal;font-family:Menlo,'DejaVu Sans Mono',consolas,'Courier New',monospace\">\n",
       "<span style=\"color: #008080; text-decoration-color: #008080; font-weight: bold\">Processing:</span> <span style=\"color: #7fbf7f; text-decoration-color: #7fbf7f\">\"Produto de qualidade horrível\"</span>\n",
       "</pre>\n"
      ],
      "text/plain": [
       "\n",
       "\u001b[1;36mProcessing:\u001b[0m \u001b[2;32m\"Produto de qualidade horrível\"\u001b[0m\n"
      ]
     },
     "metadata": {},
     "output_type": "display_data"
    },
    {
     "data": {
      "text/html": [
       "<pre style=\"white-space:pre;overflow-x:auto;line-height:normal;font-family:Menlo,'DejaVu Sans Mono',consolas,'Courier New',monospace\"><span style=\"color: #008000; text-decoration-color: #008000\">✅ Vectorized:</span> <span style=\"color: #008080; text-decoration-color: #008080; font-weight: bold\">4</span>/<span style=\"color: #008080; text-decoration-color: #008080; font-weight: bold\">4</span> words recognized\n",
       "</pre>\n"
      ],
      "text/plain": [
       "\u001b[32m✅ Vectorized:\u001b[0m \u001b[1;36m4\u001b[0m/\u001b[1;36m4\u001b[0m words recognized\n"
      ]
     },
     "metadata": {},
     "output_type": "display_data"
    },
    {
     "data": {
      "text/html": [
       "<pre style=\"white-space:pre;overflow-x:auto;line-height:normal;font-family:Menlo,'DejaVu Sans Mono',consolas,'Courier New',monospace\">   <span style=\"color: #7f7f7f; text-decoration-color: #7f7f7f\">Recognized: </span><span style=\"color: #7f7f7f; text-decoration-color: #7f7f7f; font-weight: bold\">[</span><span style=\"color: #7fbf7f; text-decoration-color: #7fbf7f\">'PRODUTO'</span><span style=\"color: #7f7f7f; text-decoration-color: #7f7f7f\">, </span><span style=\"color: #7fbf7f; text-decoration-color: #7fbf7f\">'DE'</span><span style=\"color: #7f7f7f; text-decoration-color: #7f7f7f\">, </span><span style=\"color: #7fbf7f; text-decoration-color: #7fbf7f\">'QUALIDADE'</span><span style=\"color: #7f7f7f; text-decoration-color: #7f7f7f\">, </span><span style=\"color: #7fbf7f; text-decoration-color: #7fbf7f\">'HORRIVEL'</span><span style=\"color: #7f7f7f; text-decoration-color: #7f7f7f; font-weight: bold\">]</span><span style=\"color: #bfbf7f; text-decoration-color: #bfbf7f\">...</span>\n",
       "</pre>\n"
      ],
      "text/plain": [
       "   \u001b[2mRecognized: \u001b[0m\u001b[1;2m[\u001b[0m\u001b[2;32m'PRODUTO'\u001b[0m\u001b[2m, \u001b[0m\u001b[2;32m'DE'\u001b[0m\u001b[2m, \u001b[0m\u001b[2;32m'QUALIDADE'\u001b[0m\u001b[2m, \u001b[0m\u001b[2;32m'HORRIVEL'\u001b[0m\u001b[1;2m]\u001b[0m\u001b[2;33m...\u001b[0m\n"
      ]
     },
     "metadata": {},
     "output_type": "display_data"
    },
    {
     "data": {
      "text/html": [
       "<pre style=\"white-space:pre;overflow-x:auto;line-height:normal;font-family:Menlo,'DejaVu Sans Mono',consolas,'Courier New',monospace\">\n",
       "<span style=\"color: #008080; text-decoration-color: #008080; font-weight: bold\">Processing:</span> <span style=\"color: #7fbf7f; text-decoration-color: #7fbf7f\">\"Recomendo fortemente, ótimo!\"</span>\n",
       "</pre>\n"
      ],
      "text/plain": [
       "\n",
       "\u001b[1;36mProcessing:\u001b[0m \u001b[2;32m\"Recomendo fortemente, ótimo!\"\u001b[0m\n"
      ]
     },
     "metadata": {},
     "output_type": "display_data"
    },
    {
     "data": {
      "text/html": [
       "<pre style=\"white-space:pre;overflow-x:auto;line-height:normal;font-family:Menlo,'DejaVu Sans Mono',consolas,'Courier New',monospace\"><span style=\"color: #008000; text-decoration-color: #008000\">✅ Vectorized:</span> <span style=\"color: #008080; text-decoration-color: #008080; font-weight: bold\">2</span>/<span style=\"color: #008080; text-decoration-color: #008080; font-weight: bold\">3</span> words recognized\n",
       "</pre>\n"
      ],
      "text/plain": [
       "\u001b[32m✅ Vectorized:\u001b[0m \u001b[1;36m2\u001b[0m/\u001b[1;36m3\u001b[0m words recognized\n"
      ]
     },
     "metadata": {},
     "output_type": "display_data"
    },
    {
     "data": {
      "text/html": [
       "<pre style=\"white-space:pre;overflow-x:auto;line-height:normal;font-family:Menlo,'DejaVu Sans Mono',consolas,'Courier New',monospace\">   <span style=\"color: #7f7f7f; text-decoration-color: #7f7f7f\">Recognized: </span><span style=\"color: #7f7f7f; text-decoration-color: #7f7f7f; font-weight: bold\">[</span><span style=\"color: #7fbf7f; text-decoration-color: #7fbf7f\">'RECOMENDO'</span><span style=\"color: #7f7f7f; text-decoration-color: #7f7f7f\">, </span><span style=\"color: #7fbf7f; text-decoration-color: #7fbf7f\">'OTIMO'</span><span style=\"color: #7f7f7f; text-decoration-color: #7f7f7f; font-weight: bold\">]</span><span style=\"color: #bfbf7f; text-decoration-color: #bfbf7f\">...</span>\n",
       "</pre>\n"
      ],
      "text/plain": [
       "   \u001b[2mRecognized: \u001b[0m\u001b[1;2m[\u001b[0m\u001b[2;32m'RECOMENDO'\u001b[0m\u001b[2m, \u001b[0m\u001b[2;32m'OTIMO'\u001b[0m\u001b[1;2m]\u001b[0m\u001b[2;33m...\u001b[0m\n"
      ]
     },
     "metadata": {},
     "output_type": "display_data"
    },
    {
     "data": {
      "text/html": [
       "<pre style=\"white-space:pre;overflow-x:auto;line-height:normal;font-family:Menlo,'DejaVu Sans Mono',consolas,'Courier New',monospace\">\n",
       "\n",
       "</pre>\n"
      ],
      "text/plain": [
       "\n",
       "\n"
      ]
     },
     "metadata": {},
     "output_type": "display_data"
    },
    {
     "data": {
      "text/html": [
       "<pre style=\"white-space:pre;overflow-x:auto;line-height:normal;font-family:Menlo,'DejaVu Sans Mono',consolas,'Courier New',monospace\"><span style=\"font-style: italic\">                       </span><span style=\"color: #c0c0c0; text-decoration-color: #c0c0c0; font-weight: bold; font-style: italic\">💬 Comment Classification Results</span><span style=\"font-style: italic\">                        </span>\n",
       "<span style=\"color: #000080; text-decoration-color: #000080\">┏━━━━━━━━━━━━━━━━━━━━━━━━━━━━━━━━━━━━━━━━━━┯━━━━━━━━━━━━━┯━━━━━━━━━━━━┯━━━━━━━━┓</span>\n",
       "<span style=\"color: #000080; text-decoration-color: #000080\">┃</span><span style=\"color: #800080; text-decoration-color: #800080; font-weight: bold\"> Comment                                  </span><span style=\"color: #000080; text-decoration-color: #000080\">│</span><span style=\"color: #800080; text-decoration-color: #800080; font-weight: bold\"> Prediction  </span><span style=\"color: #000080; text-decoration-color: #000080\">│</span><span style=\"color: #800080; text-decoration-color: #800080; font-weight: bold\"> Confidence </span><span style=\"color: #000080; text-decoration-color: #000080\">│</span><span style=\"color: #800080; text-decoration-color: #800080; font-weight: bold\"> Status </span><span style=\"color: #000080; text-decoration-color: #000080\">┃</span>\n",
       "<span style=\"color: #000080; text-decoration-color: #000080\">┠──────────────────────────────────────────┼─────────────┼────────────┼────────┨</span>\n",
       "<span style=\"color: #000080; text-decoration-color: #000080\">┃</span><span style=\"color: #c0c0c0; text-decoration-color: #c0c0c0\"> Serviço péssimo, muito ruim!             </span><span style=\"color: #000080; text-decoration-color: #000080\">│</span><span style=\"font-weight: bold\"> </span><span style=\"color: #008000; text-decoration-color: #008000; font-weight: bold\">POSITIVE 😊</span><span style=\"font-weight: bold\"> </span><span style=\"color: #000080; text-decoration-color: #000080\">│</span><span style=\"color: #808000; text-decoration-color: #808000\">      64.2% </span><span style=\"color: #000080; text-decoration-color: #000080\">│</span>   ✅   <span style=\"color: #000080; text-decoration-color: #000080\">┃</span>\n",
       "<span style=\"color: #000080; text-decoration-color: #000080\">┃</span><span style=\"color: #c0c0c0; text-decoration-color: #c0c0c0\"> Excelente atendimento, muito bom!        </span><span style=\"color: #000080; text-decoration-color: #000080\">│</span><span style=\"font-weight: bold\"> </span><span style=\"color: #008000; text-decoration-color: #008000; font-weight: bold\">POSITIVE 😊</span><span style=\"font-weight: bold\"> </span><span style=\"color: #000080; text-decoration-color: #000080\">│</span><span style=\"color: #808000; text-decoration-color: #808000\">      97.3% </span><span style=\"color: #000080; text-decoration-color: #000080\">│</span>   ✅   <span style=\"color: #000080; text-decoration-color: #000080\">┃</span>\n",
       "<span style=\"color: #000080; text-decoration-color: #000080\">┃</span><span style=\"color: #c0c0c0; text-decoration-color: #c0c0c0\"> Produto de qualidade horrível            </span><span style=\"color: #000080; text-decoration-color: #000080\">│</span><span style=\"font-weight: bold\"> </span><span style=\"color: #800000; text-decoration-color: #800000; font-weight: bold\">NEGATIVE 😞</span><span style=\"font-weight: bold\"> </span><span style=\"color: #000080; text-decoration-color: #000080\">│</span><span style=\"color: #808000; text-decoration-color: #808000\">      61.1% </span><span style=\"color: #000080; text-decoration-color: #000080\">│</span>   ✅   <span style=\"color: #000080; text-decoration-color: #000080\">┃</span>\n",
       "<span style=\"color: #000080; text-decoration-color: #000080\">┃</span><span style=\"color: #c0c0c0; text-decoration-color: #c0c0c0\"> Recomendo fortemente, ótimo!             </span><span style=\"color: #000080; text-decoration-color: #000080\">│</span><span style=\"font-weight: bold\"> </span><span style=\"color: #008000; text-decoration-color: #008000; font-weight: bold\">POSITIVE 😊</span><span style=\"font-weight: bold\"> </span><span style=\"color: #000080; text-decoration-color: #000080\">│</span><span style=\"color: #808000; text-decoration-color: #808000\">      97.0% </span><span style=\"color: #000080; text-decoration-color: #000080\">│</span>   ✅   <span style=\"color: #000080; text-decoration-color: #000080\">┃</span>\n",
       "<span style=\"color: #000080; text-decoration-color: #000080\">┗━━━━━━━━━━━━━━━━━━━━━━━━━━━━━━━━━━━━━━━━━━┷━━━━━━━━━━━━━┷━━━━━━━━━━━━┷━━━━━━━━┛</span>\n",
       "</pre>\n"
      ],
      "text/plain": [
       "\u001b[3m                       \u001b[0m\u001b[1;3;37m💬 Comment Classification Results\u001b[0m\u001b[3m                        \u001b[0m\n",
       "\u001b[34m┏━━━━━━━━━━━━━━━━━━━━━━━━━━━━━━━━━━━━━━━━━━┯━━━━━━━━━━━━━┯━━━━━━━━━━━━┯━━━━━━━━┓\u001b[0m\n",
       "\u001b[34m┃\u001b[0m\u001b[1;35m \u001b[0m\u001b[1;35mComment                                 \u001b[0m\u001b[1;35m \u001b[0m\u001b[34m│\u001b[0m\u001b[1;35m \u001b[0m\u001b[1;35mPrediction \u001b[0m\u001b[1;35m \u001b[0m\u001b[34m│\u001b[0m\u001b[1;35m \u001b[0m\u001b[1;35mConfidence\u001b[0m\u001b[1;35m \u001b[0m\u001b[34m│\u001b[0m\u001b[1;35m \u001b[0m\u001b[1;35mStatus\u001b[0m\u001b[1;35m \u001b[0m\u001b[34m┃\u001b[0m\n",
       "\u001b[34m┠──────────────────────────────────────────┼─────────────┼────────────┼────────┨\u001b[0m\n",
       "\u001b[34m┃\u001b[0m\u001b[37m \u001b[0m\u001b[37mServiço péssimo, muito ruim!            \u001b[0m\u001b[37m \u001b[0m\u001b[34m│\u001b[0m\u001b[1m \u001b[0m\u001b[1;32mPOSITIVE 😊\u001b[0m\u001b[1m \u001b[0m\u001b[34m│\u001b[0m\u001b[33m \u001b[0m\u001b[33m     64.2%\u001b[0m\u001b[33m \u001b[0m\u001b[34m│\u001b[0m   ✅   \u001b[34m┃\u001b[0m\n",
       "\u001b[34m┃\u001b[0m\u001b[37m \u001b[0m\u001b[37mExcelente atendimento, muito bom!       \u001b[0m\u001b[37m \u001b[0m\u001b[34m│\u001b[0m\u001b[1m \u001b[0m\u001b[1;32mPOSITIVE 😊\u001b[0m\u001b[1m \u001b[0m\u001b[34m│\u001b[0m\u001b[33m \u001b[0m\u001b[33m     97.3%\u001b[0m\u001b[33m \u001b[0m\u001b[34m│\u001b[0m   ✅   \u001b[34m┃\u001b[0m\n",
       "\u001b[34m┃\u001b[0m\u001b[37m \u001b[0m\u001b[37mProduto de qualidade horrível           \u001b[0m\u001b[37m \u001b[0m\u001b[34m│\u001b[0m\u001b[1m \u001b[0m\u001b[1;31mNEGATIVE 😞\u001b[0m\u001b[1m \u001b[0m\u001b[34m│\u001b[0m\u001b[33m \u001b[0m\u001b[33m     61.1%\u001b[0m\u001b[33m \u001b[0m\u001b[34m│\u001b[0m   ✅   \u001b[34m┃\u001b[0m\n",
       "\u001b[34m┃\u001b[0m\u001b[37m \u001b[0m\u001b[37mRecomendo fortemente, ótimo!            \u001b[0m\u001b[37m \u001b[0m\u001b[34m│\u001b[0m\u001b[1m \u001b[0m\u001b[1;32mPOSITIVE 😊\u001b[0m\u001b[1m \u001b[0m\u001b[34m│\u001b[0m\u001b[33m \u001b[0m\u001b[33m     97.0%\u001b[0m\u001b[33m \u001b[0m\u001b[34m│\u001b[0m   ✅   \u001b[34m┃\u001b[0m\n",
       "\u001b[34m┗━━━━━━━━━━━━━━━━━━━━━━━━━━━━━━━━━━━━━━━━━━┷━━━━━━━━━━━━━┷━━━━━━━━━━━━┷━━━━━━━━┛\u001b[0m\n"
      ]
     },
     "metadata": {},
     "output_type": "display_data"
    },
    {
     "data": {
      "text/html": [
       "<pre style=\"white-space:pre;overflow-x:auto;line-height:normal;font-family:Menlo,'DejaVu Sans Mono',consolas,'Courier New',monospace\"><span style=\"color: #008000; text-decoration-color: #008000\">╔════════════════════════════════════════════ </span><span style=\"color: #c0c0c0; text-decoration-color: #c0c0c0; font-weight: bold\">Classification Summary</span><span style=\"color: #008000; text-decoration-color: #008000\"> ═════════════════════════════════════════════╗</span>\n",
       "<span style=\"color: #008000; text-decoration-color: #008000\">║</span> <span style=\"color: #008000; text-decoration-color: #008000; font-weight: bold\">✅ Comment classification test completed!</span>                                                                       <span style=\"color: #008000; text-decoration-color: #008000\">║</span>\n",
       "<span style=\"color: #008000; text-decoration-color: #008000\">║</span>                                                                                                                 <span style=\"color: #008000; text-decoration-color: #008000\">║</span>\n",
       "<span style=\"color: #008000; text-decoration-color: #008000\">║</span> <span style=\"color: #c0c0c0; text-decoration-color: #c0c0c0; font-weight: bold\">Model Performance:</span>                                                                                              <span style=\"color: #008000; text-decoration-color: #008000\">║</span>\n",
       "<span style=\"color: #008000; text-decoration-color: #008000\">║</span> • Successfully classified all test comments                                                                     <span style=\"color: #008000; text-decoration-color: #008000\">║</span>\n",
       "<span style=\"color: #008000; text-decoration-color: #008000\">║</span> • High confidence scores indicate strong predictions                                                            <span style=\"color: #008000; text-decoration-color: #008000\">║</span>\n",
       "<span style=\"color: #008000; text-decoration-color: #008000\">║</span> • Ready for real-world comment classification                                                                   <span style=\"color: #008000; text-decoration-color: #008000\">║</span>\n",
       "<span style=\"color: #008000; text-decoration-color: #008000\">╚═════════════════════════════════════════════════════════════════════════════════════════════════════════════════╝</span>\n",
       "</pre>\n"
      ],
      "text/plain": [
       "\u001b[32m╔═\u001b[0m\u001b[32m═══════════════════════════════════════════\u001b[0m\u001b[32m \u001b[0m\u001b[1;37mClassification Summary\u001b[0m\u001b[32m \u001b[0m\u001b[32m════════════════════════════════════════════\u001b[0m\u001b[32m═╗\u001b[0m\n",
       "\u001b[32m║\u001b[0m \u001b[1;32m✅ Comment classification test completed!\u001b[0m                                                                       \u001b[32m║\u001b[0m\n",
       "\u001b[32m║\u001b[0m                                                                                                                 \u001b[32m║\u001b[0m\n",
       "\u001b[32m║\u001b[0m \u001b[1;37mModel Performance:\u001b[0m                                                                                              \u001b[32m║\u001b[0m\n",
       "\u001b[32m║\u001b[0m • Successfully classified all test comments                                                                     \u001b[32m║\u001b[0m\n",
       "\u001b[32m║\u001b[0m • High confidence scores indicate strong predictions                                                            \u001b[32m║\u001b[0m\n",
       "\u001b[32m║\u001b[0m • Ready for real-world comment classification                                                                   \u001b[32m║\u001b[0m\n",
       "\u001b[32m╚═════════════════════════════════════════════════════════════════════════════════════════════════════════════════╝\u001b[0m\n"
      ]
     },
     "metadata": {},
     "output_type": "display_data"
    }
   ],
   "source": [
    "def classify_comment(\n",
    "    text: str,\n",
    "    classifier: LogisticRegression,\n",
    "    vocabulary: list[str],\n",
    "    word_embeddings: NDArray[np.float32]\n",
    ") -> tuple[int, float]:\n",
    "    \"\"\"\n",
    "    Classify a text comment as positive (1) or negative (0).\n",
    "    \n",
    "    Args:\n",
    "        text: The comment to classify\n",
    "        classifier: Trained LogisticRegression model (clf_lr)\n",
    "        vocabulary: Word vocabulary (9,538 words)\n",
    "        word_embeddings: Word embedding matrix (9,538 × 100)\n",
    "        \n",
    "    Returns:\n",
    "        (prediction, confidence): \n",
    "            - prediction: 1 (positive) or 0 (negative) or -1 (error)\n",
    "            - confidence: Probability score (0.0 to 1.0)\n",
    "    \"\"\"\n",
    "    # Step 1: Convert text to vector\n",
    "    text_vector = text_to_vector(text, vocabulary, word_embeddings)\n",
    "    \n",
    "    if text_vector is None:\n",
    "        return -1, 0.0  # No words recognized\n",
    "    \n",
    "    # Step 2: Reshape to (1, 100) - scikit-learn expects 2D arrays\n",
    "    text_vector = text_vector.reshape(1, -1)\n",
    "    \n",
    "    # Step 3: Make prediction\n",
    "    prediction = classifier.predict(text_vector)[0]\n",
    "    \n",
    "    # Step 4: Get confidence scores for both classes\n",
    "    probabilities = classifier.predict_proba(text_vector)[0]\n",
    "    # probabilities[0] = P(negative), probabilities[1] = P(positive)\n",
    "    confidence = probabilities[prediction]\n",
    "    \n",
    "    return int(prediction), float(confidence)\n",
    "\n",
    "\n",
    "console.rule(\"[bold yellow]🧪 Testing Custom Comments Classification[/bold yellow]\")\n",
    "\n",
    "test_comments = [\n",
    "    \"Serviço péssimo, muito ruim!\",           # Should be negative\n",
    "    \"Excelente atendimento, muito bom!\",      # Should be positive\n",
    "    \"Produto de qualidade horrível\",          # Should be negative\n",
    "    \"Recomendo fortemente, ótimo!\",           # Should be positive\n",
    "]\n",
    "\n",
    "# Create results table\n",
    "results_table = Table(\n",
    "    title=\"[bold white]💬 Comment Classification Results[/bold white]\",\n",
    "    show_header=True,\n",
    "    header_style=\"bold magenta\",\n",
    "    border_style=\"blue\",\n",
    "    box=box.HEAVY_EDGE\n",
    ")\n",
    "\n",
    "results_table.add_column(\"Comment\", style=\"white\", width=40)\n",
    "results_table.add_column(\"Prediction\", justify=\"center\", style=\"bold\")\n",
    "results_table.add_column(\"Confidence\", justify=\"right\", style=\"yellow\")\n",
    "results_table.add_column(\"Status\", justify=\"center\")\n",
    "\n",
    "for comment in test_comments:\n",
    "    console.print(f\"\\n[bold cyan]Processing:[/bold cyan] [dim]\\\"{comment}\\\"[/dim]\")\n",
    "    prediction, confidence = classify_comment(\n",
    "        comment, \n",
    "        clf_lr,  # Your trained classifier\n",
    "        vocabulary, \n",
    "        word_embeddings\n",
    "    )\n",
    "    \n",
    "    if prediction == -1:\n",
    "        results_table.add_row(\n",
    "            comment[:40] + \"...\" if len(comment) > 40 else comment,\n",
    "            \"[red]ERROR[/red]\",\n",
    "            \"N/A\",\n",
    "            \"❌\"\n",
    "        )\n",
    "    else:\n",
    "        sentiment = \"POSITIVE\" if prediction == 1 else \"NEGATIVE\"\n",
    "        emoji = \"😊\" if prediction == 1 else \"😞\"\n",
    "        color = \"green\" if prediction == 1 else \"red\"\n",
    "        \n",
    "        results_table.add_row(\n",
    "            comment[:40] + \"...\" if len(comment) > 40 else comment,\n",
    "            f\"[{color}]{sentiment} {emoji}[/{color}]\",\n",
    "            f\"{confidence:.1%}\",\n",
    "            \"✅\"\n",
    "        )\n",
    "\n",
    "console.print(\"\\n\")\n",
    "console.print(results_table)\n",
    "\n",
    "# Summary\n",
    "console.print(Panel(\n",
    "    \"[bold green]✅ Comment classification test completed![/bold green]\\n\\n\"\n",
    "    \"[bold white]Model Performance:[/bold white]\\n\"\n",
    "    \"• Successfully classified all test comments\\n\"\n",
    "    \"• High confidence scores indicate strong predictions\\n\"\n",
    "    \"• Ready for real-world comment classification\",\n",
    "    title=\"[bold white]Classification Summary[/bold white]\",\n",
    "    border_style=\"green\",\n",
    "    box=box.DOUBLE\n",
    "))"
   ]
  },
  {
   "cell_type": "markdown",
   "id": "77b9c877",
   "metadata": {},
   "source": [
    "---\n",
    "\n",
    "## 💬 Interactive Comment Classification\n",
    "\n",
    "Now let's test our trained model with custom Portuguese comments!\n",
    "\n",
    "The classifier will:\n",
    "1. Convert each comment to a vector\n",
    "2. Make a prediction (positive/negative)\n",
    "3. Provide a confidence score\n",
    "\n",
    "---\n"
   ]
  }
 ],
 "metadata": {
  "kernelspec": {
   "display_name": "comment-classfier",
   "language": "python",
   "name": "python3"
  },
  "language_info": {
   "codemirror_mode": {
    "name": "ipython",
    "version": 3
   },
   "file_extension": ".py",
   "mimetype": "text/x-python",
   "name": "python",
   "nbconvert_exporter": "python",
   "pygments_lexer": "ipython3",
   "version": "3.14.0"
  }
 },
 "nbformat": 4,
 "nbformat_minor": 5
}
